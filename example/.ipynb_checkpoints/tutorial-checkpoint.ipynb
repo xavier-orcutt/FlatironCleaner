{
 "cells": [
  {
   "cell_type": "markdown",
   "id": "8d900252-4907-48ef-97ab-fffa4f2a93b6",
   "metadata": {},
   "source": [
    "# Tutorial of DataProcessorUrothelial \n",
    "\n",
    "The DataProcessorUrothelial package streamlines the processing of Flatiron Health's advanced urothelial cancer datasets. It provides specialized functions to clean and standardize CSV files containing clinical data (eg., demographics, vitals, labs, medications, ICD codes). Each processing function handles format-specific requirements and common data quality issues, outputting standardized dataframes that can be merged into a single, comprehensive dataset ready for analysis."
   ]
  },
  {
   "cell_type": "code",
   "execution_count": 1,
   "id": "4ab96521-8257-4c74-9862-528dc842b80f",
   "metadata": {},
   "outputs": [],
   "source": [
    "# Development setup only \n",
    "# These lines are only needed when running this notebook from the repository\n",
    "import sys\n",
    "from pathlib import Path\n",
    "src_path = str(Path('../src').resolve())\n",
    "sys.path.append(src_path)"
   ]
  },
  {
   "cell_type": "markdown",
   "id": "37960d7c-ebf9-454f-a29d-ace2fda0c5a1",
   "metadata": {},
   "source": [
    "## Setup \n",
    "To begin using the package, import the required modules and initialize the processor."
   ]
  },
  {
   "cell_type": "code",
   "execution_count": 2,
   "id": "f4156122-79d7-411e-bfc0-ec5f187472ad",
   "metadata": {},
   "outputs": [],
   "source": [
    "from urothelial_processor import DataProcessorUrothelial\n",
    "from merge_utils import merge_dataframes\n",
    "\n",
    "import pandas as pd"
   ]
  },
  {
   "cell_type": "code",
   "execution_count": 3,
   "id": "89cf07cf-1fa7-4b33-9dca-80477cae8493",
   "metadata": {},
   "outputs": [],
   "source": [
    "# Initialize class \n",
    "processor = DataProcessorUrothelial()"
   ]
  },
  {
   "cell_type": "code",
   "execution_count": 4,
   "id": "5eea825a-655e-418d-bea3-91e150015767",
   "metadata": {},
   "outputs": [],
   "source": [
    "# Import dataframe with index date of interest for PatientIDs\n",
    "df = pd.read_csv('../data_uro/Enhanced_AdvUrothelial.csv')"
   ]
  },
  {
   "cell_type": "code",
   "execution_count": 5,
   "id": "dead9796-cf7a-4884-91c9-c99b35d7d46a",
   "metadata": {},
   "outputs": [],
   "source": [
    "# For our example we'll select 1000 random patients to clean\n",
    "df = df.sample(n = 1000, random_state = 42)\n",
    "ids = df.PatientID.to_list()"
   ]
  },
  {
   "cell_type": "markdown",
   "id": "b795c1e7-869e-400f-99a5-3c5487da7615",
   "metadata": {},
   "source": [
    "## Cleaning CSV Files \n",
    "Process individual data files using specialized functions. Each function handles data cleaning and standardization specific to the CSV file. "
   ]
  },
  {
   "cell_type": "code",
   "execution_count": 6,
   "id": "6f684915-a51d-4686-9646-f92eae6bdadf",
   "metadata": {},
   "outputs": [
    {
     "name": "stderr",
     "output_type": "stream",
     "text": [
      "2025-02-25 16:16:13,376 - INFO - Successfully read Enhanced_AdvUrothelial.csv file with shape: (13129, 13) and unique PatientIDs: 13129\n",
      "2025-02-25 16:16:13,376 - INFO - Filtering for 1000 specific PatientIDs\n",
      "2025-02-25 16:16:13,378 - INFO - Successfully filtered Enhanced_AdvUrothelial.csv file with shape: (1000, 13) and unique PatientIDs: 1000\n",
      "2025-02-25 16:16:13,386 - INFO - Successfully processed Enhanced_AdvUrothelial.csv file with final shape: (1000, 13) and unique PatientIDs: 1000\n"
     ]
    }
   ],
   "source": [
    "# Process Enhanced_AdvUrothelial.csv\n",
    "enhanced_df = processor.process_enhanced_adv(file_path = '../data_uro/Enhanced_AdvUrothelial.csv', \n",
    "                                             patient_ids = ids)"
   ]
  },
  {
   "cell_type": "code",
   "execution_count": 7,
   "id": "653e48d3-b05c-44a9-8d6b-4395cc9ebfe9",
   "metadata": {},
   "outputs": [
    {
     "name": "stderr",
     "output_type": "stream",
     "text": [
      "2025-02-25 16:16:13,397 - INFO - Successfully read Demographics.csv file with shape: (13129, 6) and unique PatientIDs: 13129\n",
      "2025-02-25 16:16:13,405 - INFO - Successfully processed Demographics.csv file with final shape: (1000, 6) and unique PatientIDs: 1000\n"
     ]
    }
   ],
   "source": [
    "# Process Demographics.csv \n",
    "demographics_df = processor.process_demographics(file_path = '../data_uro/Demographics.csv',\n",
    "                                                 index_date_df = df,\n",
    "                                                 index_date_column = 'AdvancedDiagnosisDate')"
   ]
  },
  {
   "cell_type": "code",
   "execution_count": 8,
   "id": "05214363-d452-487c-b511-cdf999d92228",
   "metadata": {},
   "outputs": [
    {
     "name": "stderr",
     "output_type": "stream",
     "text": [
      "2025-02-25 16:16:13,417 - INFO - Successfully read Practice.csv file with shape: (14181, 4) and unique PatientIDs: 13129\n",
      "2025-02-25 16:16:13,418 - INFO - Filtering for 1000 specific PatientIDs\n",
      "2025-02-25 16:16:13,419 - INFO - Successfully filtered Practice.csv file with shape: (1082, 4) and unique PatientIDs: 1000\n",
      "2025-02-25 16:16:13,436 - INFO - Successfully processed Practice.csv file with final shape: (1000, 2) and unique PatientIDs: 1000\n"
     ]
    }
   ],
   "source": [
    "# Process Practice.csv\n",
    "practice_df = processor.process_practice(file_path = '../data_uro/Practice.csv',\n",
    "                                         patient_ids = ids)"
   ]
  },
  {
   "cell_type": "code",
   "execution_count": 9,
   "id": "99993c89-318f-46a2-bd5e-8e2a304a54ea",
   "metadata": {},
   "outputs": [
    {
     "name": "stderr",
     "output_type": "stream",
     "text": [
      "2025-02-25 16:16:13,443 - INFO - Successfully read Enhanced_Mortality_V2.csv file with shape: (9040, 2) and unique PatientIDs: 9040\n",
      "2025-02-25 16:16:13,452 - INFO - Successfully merged Enhanced_Mortality_V2.csv df with index_date_df resulting in shape: (1000, 3) and unique PatientIDs: 1000\n",
      "2025-02-25 16:16:13,802 - INFO - The follwing columns ['last_visit_date', 'last_oral_date', 'last_biomarker_date', 'last_progression_date'] are used to calculate the last EHR date\n",
      "2025-02-25 16:16:13,806 - INFO - Successfully processed Enhanced_Mortality_V2.csv file with final shape: (1000, 3) and unique PatientIDs: 1000. There are 0 out of 1000 patients with missing duration values\n"
     ]
    }
   ],
   "source": [
    "# Process Enhanced_Mortality_V2.csv and use visit, telemedicine, biomarkers, oral, and progression data to determine censoring date \n",
    "mortality_df = processor.process_mortality(file_path = '../data_uro/Enhanced_Mortality_V2.csv',\n",
    "                                           index_date_df = df, \n",
    "                                           index_date_column = 'AdvancedDiagnosisDate',\n",
    "                                           visit_path = '../data_uro/Visit.csv', \n",
    "                                           telemedicine_path = '../data_uro/Telemedicine.csv', \n",
    "                                           biomarker_path = '../data_uro/Enhanced_AdvUrothelialBiomarkers.csv', \n",
    "                                           oral_path = '../data_uro/Enhanced_AdvUrothelial_Orals.csv',\n",
    "                                           progression_path = '../data_uro/Enhanced_AdvUrothelial_Progression.csv')"
   ]
  },
  {
   "cell_type": "code",
   "execution_count": 10,
   "id": "bdb30b7a-d6bb-4803-9ed2-cd64b2f4201e",
   "metadata": {},
   "outputs": [
    {
     "name": "stderr",
     "output_type": "stream",
     "text": [
      "2025-02-25 16:16:13,833 - INFO - Successfully read Enhanced_AdvUrothelialBiomarkers.csv file with shape: (9924, 19) and unique PatientIDs: 4251\n",
      "2025-02-25 16:16:13,840 - INFO - Successfully merged Enhanced_AdvUrothelialBiomarkers.csv df with index_date_df resulting in shape: (768, 20) and unique PatientIDs: 329\n",
      "2025-02-25 16:16:13,851 - INFO - Successfully processed Enhanced_AdvUrothelialBiomarkers.csv file with final shape: (1000, 4) and unique PatientIDs: 1000\n"
     ]
    }
   ],
   "source": [
    "# Process Enhanced_AdvUrothelialBiomarkers.csv\n",
    "biomarkers_df = processor.process_biomarkers(file_path = '../data_uro/Enhanced_AdvUrothelialBiomarkers.csv',\n",
    "                                             index_date_df = df, \n",
    "                                             index_date_column = 'AdvancedDiagnosisDate',\n",
    "                                             days_before = None, \n",
    "                                             days_after = 14)\n",
    "\n",
    "# Empty values are replaced with \"unknown\"\n",
    "biomarkers_df['PDL1_status'] = biomarkers_df['PDL1_status'].fillna('unknown')\n",
    "\n",
    "biomarkers_df['FGFR_status'] = biomarkers_df['FGFR_status'].cat.add_categories('unknown')\n",
    "biomarkers_df['FGFR_status'] = biomarkers_df['FGFR_status'].fillna('unknown')"
   ]
  },
  {
   "cell_type": "code",
   "execution_count": 11,
   "id": "251ca60f-1b99-4f07-b47f-c98894f7092c",
   "metadata": {},
   "outputs": [
    {
     "name": "stderr",
     "output_type": "stream",
     "text": [
      "2025-02-25 16:16:13,914 - INFO - Successfully read ECOG.csv file with shape: (184794, 4) and unique PatientIDs: 9933\n",
      "2025-02-25 16:16:13,939 - INFO - Successfully merged ECOG.csv df with index_date_df resulting in shape: (14342, 5) and unique PatientIDs: 768\n",
      "2025-02-25 16:16:13,949 - INFO - Successfully processed ECOG.csv file with final shape: (1000, 3) and unique PatientIDs: 1000\n"
     ]
    }
   ],
   "source": [
    "# Process ECOG.csv\n",
    "ecog_df = processor.process_ecog(file_path = '../data_uro/ECOG.csv', \n",
    "                                 index_date_df = df,\n",
    "                                 index_date_column = 'AdvancedDiagnosisDate',\n",
    "                                 days_before = 90,\n",
    "                                 days_after = 0,\n",
    "                                 days_before_further = 180)"
   ]
  },
  {
   "cell_type": "code",
   "execution_count": 12,
   "id": "9a5ef167-0d91-4660-a8eb-ba7dbee00fe8",
   "metadata": {},
   "outputs": [
    {
     "name": "stderr",
     "output_type": "stream",
     "text": [
      "2025-02-25 16:16:17,044 - INFO - Successfully read Vitals.csv file with shape: (3604484, 16) and unique PatientIDs: 13109\n",
      "2025-02-25 16:16:18,425 - INFO - Successfully merged Vitals.csv df with index_date_df resulting in shape: (261747, 17) and unique PatientIDs: 997\n",
      "2025-02-25 16:16:18,520 - INFO - Successfully processed Vitals.csv file with final shape: (1000, 8) and unique PatientIDs: 1000\n"
     ]
    }
   ],
   "source": [
    "# Process Vitals.csv\n",
    "vitals_df = processor.process_vitals(file_path = '../data_uro/Vitals.csv',\n",
    "                                     index_date_df = df,\n",
    "                                     index_date_column = 'AdvancedDiagnosisDate',\n",
    "                                     weight_days_before = 90,\n",
    "                                     days_after = 0,\n",
    "                                     vital_summary_lookback = 180, \n",
    "                                     abnormal_reading_threshold = 1)"
   ]
  },
  {
   "cell_type": "code",
   "execution_count": 13,
   "id": "33710973-645f-4b23-b8eb-b17d5662793e",
   "metadata": {},
   "outputs": [
    {
     "name": "stderr",
     "output_type": "stream",
     "text": [
      "2025-02-25 16:16:29,531 - INFO - Successfully read Lab.csv file with shape: (9373598, 17) and unique PatientIDs: 12700\n",
      "2025-02-25 16:16:31,122 - INFO - Successfully merged Lab.csv df with index_date_df resulting in shape: (706793, 18) and unique PatientIDs: 979\n",
      "2025-02-25 16:16:31,940 - INFO - Successfully processed Lab.csv file with final shape: (1000, 76) and unique PatientIDs: 1000\n"
     ]
    }
   ],
   "source": [
    "# Process Lab.csv\n",
    "labs_df = processor.process_labs(file_path = '../data_uro/Lab.csv',\n",
    "                                 index_date_df = df,\n",
    "                                 index_date_column = 'AdvancedDiagnosisDate',\n",
    "                                 days_before = 90,\n",
    "                                 days_after = 0,\n",
    "                                 summary_lookback = 180)"
   ]
  },
  {
   "cell_type": "code",
   "execution_count": 14,
   "id": "02d5e025-664e-4b36-84c8-1a3bee94f22f",
   "metadata": {},
   "outputs": [
    {
     "name": "stderr",
     "output_type": "stream",
     "text": [
      "2025-02-25 16:16:33,168 - INFO - Successfully read MedicationAdministration.csv file with shape: (997836, 11) and unique PatientIDs: 10983\n",
      "2025-02-25 16:16:33,297 - INFO - Successfully merged MedicationAdministration.csv df with index_date_df resulting in shape: (71369, 12) and unique PatientIDs: 839\n",
      "2025-02-25 16:16:33,317 - INFO - Successfully processed MedicationAdministration.csv file with final shape: (1000, 9) and unique PatientIDs: 1000\n"
     ]
    }
   ],
   "source": [
    "# Process MedicationAdministration.csv\n",
    "medications_df = processor.process_medications(file_path = '../data_uro/MedicationAdministration.csv',\n",
    "                                               index_date_df = df,\n",
    "                                               index_date_column = 'AdvancedDiagnosisDate',\n",
    "                                               days_before = 90,\n",
    "                                               days_after = 0)"
   ]
  },
  {
   "cell_type": "code",
   "execution_count": 15,
   "id": "307fb9fe-f8e2-4d76-a573-fdca852a1ac8",
   "metadata": {},
   "outputs": [
    {
     "name": "stderr",
     "output_type": "stream",
     "text": [
      "2025-02-25 16:16:33,733 - INFO - Successfully read Diagnosis.csv file with shape: (625348, 6) and unique PatientIDs: 13129\n",
      "2025-02-25 16:16:33,799 - INFO - Successfully merged Diagnosis.csv df with index_date_df resulting in shape: (42317, 7) and unique PatientIDs: 1000\n",
      "2025-02-25 16:16:33,923 - INFO - Successfully processed Diagnosis.csv file with final shape: (1000, 42) and unique PatientIDs: 1000\n"
     ]
    }
   ],
   "source": [
    "# Process Diagnsois.csv \n",
    "diagnosis_df = processor.process_diagnosis(file_path = '../data_uro/Diagnosis.csv',\n",
    "                                           index_date_df = df,\n",
    "                                           index_date_column = 'AdvancedDiagnosisDate',\n",
    "                                           days_before = None,\n",
    "                                           days_after = 0)"
   ]
  },
  {
   "cell_type": "code",
   "execution_count": 16,
   "id": "c594fe3b-2a7e-42b2-b6a5-26a27a6e3712",
   "metadata": {},
   "outputs": [
    {
     "name": "stderr",
     "output_type": "stream",
     "text": [
      "2025-02-25 16:16:33,999 - INFO - Successfully read Insurance.csv file with shape: (53709, 14) and unique PatientIDs: 12391\n",
      "2025-02-25 16:16:34,025 - INFO - Successfully merged Insurance.csv df with index_date_df resulting in shape: (3861, 15) and unique PatientIDs: 943\n",
      "2025-02-25 16:16:34,036 - INFO - Successfully processed Insurance.csv file with final shape: (1000, 5) and unique PatientIDs: 1000\n"
     ]
    }
   ],
   "source": [
    "# Process Insurance.csv \n",
    "insurance_df = processor.process_insurance(file_path = '../data_uro/Insurance.csv',\n",
    "                                           index_date_df = df,\n",
    "                                           index_date_column = 'AdvancedDiagnosisDate',\n",
    "                                           days_before = None,\n",
    "                                           days_after = 0,\n",
    "                                           missing_date_strategy = 'liberal')"
   ]
  },
  {
   "cell_type": "markdown",
   "id": "559cfafd-2fc8-4c6c-a27b-5954aa4ca96e",
   "metadata": {},
   "source": [
    "## Merge Processed Dataframes\n",
    "Merge the processed dataframes into a single analysis-ready dataset"
   ]
  },
  {
   "cell_type": "code",
   "execution_count": 17,
   "id": "31baccb7-978d-4a63-b37c-871baaee556f",
   "metadata": {},
   "outputs": [
    {
     "name": "stderr",
     "output_type": "stream",
     "text": [
      "2025-02-25 16:16:34,039 - INFO - Anticipated number of merges: 10\n",
      "2025-02-25 16:16:34,040 - INFO - Anticipated number of columns in final dataframe presuming all columns are unique except for PatientID: 161\n",
      "2025-02-25 16:16:34,041 - INFO - Dataset 1 shape: (1000, 13), unique PatientIDs: 1000\n",
      "2025-02-25 16:16:34,041 - INFO - Dataset 2 shape: (1000, 6), unique PatientIDs: 1000\n",
      "2025-02-25 16:16:34,042 - INFO - Dataset 3 shape: (1000, 2), unique PatientIDs: 1000\n",
      "2025-02-25 16:16:34,043 - INFO - Dataset 4 shape: (1000, 3), unique PatientIDs: 1000\n",
      "2025-02-25 16:16:34,043 - INFO - Dataset 5 shape: (1000, 4), unique PatientIDs: 1000\n",
      "2025-02-25 16:16:34,044 - INFO - Dataset 6 shape: (1000, 3), unique PatientIDs: 1000\n",
      "2025-02-25 16:16:34,044 - INFO - Dataset 7 shape: (1000, 8), unique PatientIDs: 1000\n",
      "2025-02-25 16:16:34,044 - INFO - Dataset 8 shape: (1000, 76), unique PatientIDs: 1000\n",
      "2025-02-25 16:16:34,045 - INFO - Dataset 9 shape: (1000, 9), unique PatientIDs: 1000\n",
      "2025-02-25 16:16:34,045 - INFO - Dataset 10 shape: (1000, 42), unique PatientIDs: 1000\n",
      "2025-02-25 16:16:34,046 - INFO - Dataset 11 shape: (1000, 5), unique PatientIDs: 1000\n",
      "2025-02-25 16:16:34,049 - INFO - After merge 1 shape: (1000, 18), unique PatientIDs 1000\n",
      "2025-02-25 16:16:34,050 - INFO - After merge 2 shape: (1000, 19), unique PatientIDs 1000\n",
      "2025-02-25 16:16:34,052 - INFO - After merge 3 shape: (1000, 21), unique PatientIDs 1000\n",
      "2025-02-25 16:16:34,054 - INFO - After merge 4 shape: (1000, 24), unique PatientIDs 1000\n",
      "2025-02-25 16:16:34,056 - INFO - After merge 5 shape: (1000, 26), unique PatientIDs 1000\n",
      "2025-02-25 16:16:34,059 - INFO - After merge 6 shape: (1000, 33), unique PatientIDs 1000\n",
      "2025-02-25 16:16:34,061 - INFO - After merge 7 shape: (1000, 108), unique PatientIDs 1000\n",
      "2025-02-25 16:16:34,065 - INFO - After merge 8 shape: (1000, 116), unique PatientIDs 1000\n",
      "2025-02-25 16:16:34,069 - INFO - After merge 9 shape: (1000, 157), unique PatientIDs 1000\n",
      "2025-02-25 16:16:34,071 - INFO - After merge 10 shape: (1000, 161), unique PatientIDs 1000\n"
     ]
    }
   ],
   "source": [
    "merged_data = merge_dataframes(enhanced_df, \n",
    "                               demographics_df, \n",
    "                               practice_df, \n",
    "                               mortality_df, \n",
    "                               biomarkers_df, \n",
    "                               ecog_df, \n",
    "                               vitals_df,\n",
    "                               labs_df,\n",
    "                               medications_df, \n",
    "                               diagnosis_df, \n",
    "                               insurance_df)"
   ]
  },
  {
   "cell_type": "code",
   "execution_count": 18,
   "id": "e4357e47-cf24-4c71-9cf1-dbd5868bae37",
   "metadata": {},
   "outputs": [
    {
     "data": {
      "text/plain": [
       "['PatientID',\n",
       " 'PrimarySite',\n",
       " 'DiseaseGrade',\n",
       " 'NStage',\n",
       " 'SmokingStatus',\n",
       " 'Surgery',\n",
       " 'GroupStage_mod',\n",
       " 'TStage_mod',\n",
       " 'MStage_mod',\n",
       " 'SurgeryType_mod',\n",
       " 'days_diagnosis_to_adv',\n",
       " 'adv_diagnosis_year',\n",
       " 'days_diagnosis_to_surgery',\n",
       " 'Gender',\n",
       " 'Race',\n",
       " 'Ethnicity',\n",
       " 'age',\n",
       " 'region',\n",
       " 'PracticeType_mod',\n",
       " 'event',\n",
       " 'duration',\n",
       " 'PDL1_status',\n",
       " 'PDL1_percent_staining',\n",
       " 'FGFR_status',\n",
       " 'ecog_index',\n",
       " 'ecog_newly_gte2',\n",
       " 'weight',\n",
       " 'bmi',\n",
       " 'percent_change_weight',\n",
       " 'hypotension',\n",
       " 'tachycardia',\n",
       " 'fevers',\n",
       " 'hypoxemia',\n",
       " 'albumin',\n",
       " 'alp',\n",
       " 'alt',\n",
       " 'ast',\n",
       " 'bicarb',\n",
       " 'bun',\n",
       " 'calcium',\n",
       " 'chloride',\n",
       " 'creatinine',\n",
       " 'hemoglobin',\n",
       " 'platelet',\n",
       " 'potassium',\n",
       " 'sodium',\n",
       " 'total_bilirubin',\n",
       " 'wbc',\n",
       " 'albumin_max',\n",
       " 'alp_max',\n",
       " 'alt_max',\n",
       " 'ast_max',\n",
       " 'bicarb_max',\n",
       " 'bun_max',\n",
       " 'calcium_max',\n",
       " 'chloride_max',\n",
       " 'creatinine_max',\n",
       " 'hemoglobin_max',\n",
       " 'platelet_max',\n",
       " 'potassium_max',\n",
       " 'sodium_max',\n",
       " 'total_bilirubin_max',\n",
       " 'wbc_max',\n",
       " 'albumin_min',\n",
       " 'alp_min',\n",
       " 'alt_min',\n",
       " 'ast_min',\n",
       " 'bicarb_min',\n",
       " 'bun_min',\n",
       " 'calcium_min',\n",
       " 'chloride_min',\n",
       " 'creatinine_min',\n",
       " 'hemoglobin_min',\n",
       " 'platelet_min',\n",
       " 'potassium_min',\n",
       " 'sodium_min',\n",
       " 'total_bilirubin_min',\n",
       " 'wbc_min',\n",
       " 'albumin_std',\n",
       " 'alp_std',\n",
       " 'alt_std',\n",
       " 'ast_std',\n",
       " 'bicarb_std',\n",
       " 'bun_std',\n",
       " 'calcium_std',\n",
       " 'chloride_std',\n",
       " 'creatinine_std',\n",
       " 'hemoglobin_std',\n",
       " 'platelet_std',\n",
       " 'potassium_std',\n",
       " 'sodium_std',\n",
       " 'total_bilirubin_std',\n",
       " 'wbc_std',\n",
       " 'albumin_slope',\n",
       " 'alp_slope',\n",
       " 'alt_slope',\n",
       " 'ast_slope',\n",
       " 'bicarb_slope',\n",
       " 'bun_slope',\n",
       " 'calcium_slope',\n",
       " 'chloride_slope',\n",
       " 'creatinine_slope',\n",
       " 'hemoglobin_slope',\n",
       " 'platelet_slope',\n",
       " 'potassium_slope',\n",
       " 'sodium_slope',\n",
       " 'total_bilirubin_slope',\n",
       " 'wbc_slope',\n",
       " 'anticoagulated',\n",
       " 'opioid',\n",
       " 'steroid',\n",
       " 'antibiotic',\n",
       " 'diabetic',\n",
       " 'antidepressant',\n",
       " 'bone_therapy',\n",
       " 'immunosuppressed',\n",
       " 'Pulmonary',\n",
       " 'Valvular',\n",
       " 'AIDS',\n",
       " 'Alcohol',\n",
       " 'Arrhythmia',\n",
       " 'WeightLoss',\n",
       " 'Hypothyroid',\n",
       " 'DrugAbuse',\n",
       " 'PUD',\n",
       " 'Obesity',\n",
       " 'Liver',\n",
       " 'DM',\n",
       " 'Rheumatic',\n",
       " 'PVD',\n",
       " 'Fluid',\n",
       " 'HTN',\n",
       " 'HTNcx',\n",
       " 'BloodLoss',\n",
       " 'Depression',\n",
       " 'Coagulopathy',\n",
       " 'Renal',\n",
       " 'COPD',\n",
       " 'DMcx',\n",
       " 'Lymphoma',\n",
       " 'Neuro',\n",
       " 'Psychoses',\n",
       " 'DefAnemia',\n",
       " 'Paralysis',\n",
       " 'CHF',\n",
       " 'van_walraven_score',\n",
       " 'unspecified_mets',\n",
       " 'lymph_mets',\n",
       " 'lung_mets',\n",
       " 'liver_mets',\n",
       " 'other_mets',\n",
       " 'adrenal_mets',\n",
       " 'brain_mets',\n",
       " 'gi_mets',\n",
       " 'pleura_mets',\n",
       " 'peritoneum_mets',\n",
       " 'bone_mets',\n",
       " 'commercial',\n",
       " 'medicaid',\n",
       " 'medicare',\n",
       " 'other_insurance']"
      ]
     },
     "execution_count": 18,
     "metadata": {},
     "output_type": "execute_result"
    }
   ],
   "source": [
    "merged_data.columns.to_list()"
   ]
  },
  {
   "cell_type": "code",
   "execution_count": 19,
   "id": "1d311fd5-28b1-43f2-8851-ed2e38cca070",
   "metadata": {},
   "outputs": [
    {
     "name": "stdout",
     "output_type": "stream",
     "text": [
      "PatientID: object\n",
      "PrimarySite: category\n",
      "DiseaseGrade: category\n",
      "NStage: category\n",
      "SmokingStatus: category\n",
      "Surgery: int64\n",
      "GroupStage_mod: category\n",
      "TStage_mod: category\n",
      "MStage_mod: category\n",
      "SurgeryType_mod: category\n",
      "days_diagnosis_to_adv: float64\n",
      "adv_diagnosis_year: category\n",
      "days_diagnosis_to_surgery: float64\n",
      "Gender: category\n",
      "Race: category\n",
      "Ethnicity: category\n",
      "age: Int64\n",
      "region: category\n",
      "PracticeType_mod: category\n",
      "event: Int64\n",
      "duration: float64\n",
      "PDL1_status: category\n",
      "PDL1_percent_staining: category\n",
      "FGFR_status: category\n",
      "ecog_index: category\n",
      "ecog_newly_gte2: Int64\n",
      "weight: float64\n",
      "bmi: float64\n",
      "percent_change_weight: float64\n",
      "hypotension: Int64\n",
      "tachycardia: Int64\n",
      "fevers: Int64\n",
      "hypoxemia: Int64\n",
      "albumin: float64\n",
      "alp: float64\n",
      "alt: float64\n",
      "ast: float64\n",
      "bicarb: float64\n",
      "bun: float64\n",
      "calcium: float64\n",
      "chloride: float64\n",
      "creatinine: float64\n",
      "hemoglobin: float64\n",
      "platelet: float64\n",
      "potassium: float64\n",
      "sodium: float64\n",
      "total_bilirubin: float64\n",
      "wbc: float64\n",
      "albumin_max: float64\n",
      "alp_max: float64\n",
      "alt_max: float64\n",
      "ast_max: float64\n",
      "bicarb_max: float64\n",
      "bun_max: float64\n",
      "calcium_max: float64\n",
      "chloride_max: float64\n",
      "creatinine_max: float64\n",
      "hemoglobin_max: float64\n",
      "platelet_max: float64\n",
      "potassium_max: float64\n",
      "sodium_max: float64\n",
      "total_bilirubin_max: float64\n",
      "wbc_max: float64\n",
      "albumin_min: float64\n",
      "alp_min: float64\n",
      "alt_min: float64\n",
      "ast_min: float64\n",
      "bicarb_min: float64\n",
      "bun_min: float64\n",
      "calcium_min: float64\n",
      "chloride_min: float64\n",
      "creatinine_min: float64\n",
      "hemoglobin_min: float64\n",
      "platelet_min: float64\n",
      "potassium_min: float64\n",
      "sodium_min: float64\n",
      "total_bilirubin_min: float64\n",
      "wbc_min: float64\n",
      "albumin_std: float64\n",
      "alp_std: float64\n",
      "alt_std: float64\n",
      "ast_std: float64\n",
      "bicarb_std: float64\n",
      "bun_std: float64\n",
      "calcium_std: float64\n",
      "chloride_std: float64\n",
      "creatinine_std: float64\n",
      "hemoglobin_std: float64\n",
      "platelet_std: float64\n",
      "potassium_std: float64\n",
      "sodium_std: float64\n",
      "total_bilirubin_std: float64\n",
      "wbc_std: float64\n",
      "albumin_slope: float64\n",
      "alp_slope: float64\n",
      "alt_slope: float64\n",
      "ast_slope: float64\n",
      "bicarb_slope: float64\n",
      "bun_slope: float64\n",
      "calcium_slope: float64\n",
      "chloride_slope: float64\n",
      "creatinine_slope: float64\n",
      "hemoglobin_slope: float64\n",
      "platelet_slope: float64\n",
      "potassium_slope: float64\n",
      "sodium_slope: float64\n",
      "total_bilirubin_slope: float64\n",
      "wbc_slope: float64\n",
      "anticoagulated: Int64\n",
      "opioid: Int64\n",
      "steroid: Int64\n",
      "antibiotic: Int64\n",
      "diabetic: Int64\n",
      "antidepressant: Int64\n",
      "bone_therapy: Int64\n",
      "immunosuppressed: Int64\n",
      "Pulmonary: Int64\n",
      "Valvular: Int64\n",
      "AIDS: Int64\n",
      "Alcohol: Int64\n",
      "Arrhythmia: Int64\n",
      "WeightLoss: Int64\n",
      "Hypothyroid: Int64\n",
      "DrugAbuse: Int64\n",
      "PUD: Int64\n",
      "Obesity: Int64\n",
      "Liver: Int64\n",
      "DM: Int64\n",
      "Rheumatic: Int64\n",
      "PVD: Int64\n",
      "Fluid: Int64\n",
      "HTN: Int64\n",
      "HTNcx: Int64\n",
      "BloodLoss: Int64\n",
      "Depression: Int64\n",
      "Coagulopathy: Int64\n",
      "Renal: Int64\n",
      "COPD: Int64\n",
      "DMcx: Int64\n",
      "Lymphoma: Int64\n",
      "Neuro: Int64\n",
      "Psychoses: Int64\n",
      "DefAnemia: Int64\n",
      "Paralysis: Int64\n",
      "CHF: Int64\n",
      "van_walraven_score: float64\n",
      "unspecified_mets: Int64\n",
      "lymph_mets: Int64\n",
      "lung_mets: Int64\n",
      "liver_mets: Int64\n",
      "other_mets: Int64\n",
      "adrenal_mets: Int64\n",
      "brain_mets: Int64\n",
      "gi_mets: Int64\n",
      "pleura_mets: Int64\n",
      "peritoneum_mets: Int64\n",
      "bone_mets: Int64\n",
      "commercial: Int64\n",
      "medicaid: Int64\n",
      "medicare: Int64\n",
      "other_insurance: Int64\n"
     ]
    }
   ],
   "source": [
    "for col, dtype in merged_data.dtypes.items():\n",
    "    print(f\"{col}: {dtype}\")"
   ]
  }
 ],
 "metadata": {
  "kernelspec": {
   "display_name": "Python 3 (ipykernel)",
   "language": "python",
   "name": "python3"
  },
  "language_info": {
   "codemirror_mode": {
    "name": "ipython",
    "version": 3
   },
   "file_extension": ".py",
   "mimetype": "text/x-python",
   "name": "python",
   "nbconvert_exporter": "python",
   "pygments_lexer": "ipython3",
   "version": "3.13.1"
  }
 },
 "nbformat": 4,
 "nbformat_minor": 5
}
