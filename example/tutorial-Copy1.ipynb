{
 "cells": [
  {
   "cell_type": "markdown",
   "id": "8d900252-4907-48ef-97ab-fffa4f2a93b6",
   "metadata": {},
   "source": [
    "# Tutorial of DataProcessorUrothelial\n",
    "\n",
    "The DataProcessorUrothelial package streamlines the processing of Flatiron Health's advanced urothelial cancer datasets. It provides specialized functions to clean and standardize CSV files containing clinical data (eg., demographics, vitals, labs, medications, ICD codes). Each processing function handles format-specific requirements and common data quality issues, outputting standardized dataframes that can be merged into a single, comprehensive dataset ready for analysis."
   ]
  },
  {
   "cell_type": "code",
   "execution_count": 1,
   "id": "4ab96521-8257-4c74-9862-528dc842b80f",
   "metadata": {},
   "outputs": [],
   "source": [
    "# Development setup only \n",
    "# These lines are only needed when running this notebook from the example folder in the repository\n",
    "import sys\n",
    "import os\n",
    "sys.path.append(os.path.abspath(os.path.join(os.getcwd(), '..')))"
   ]
  },
  {
   "cell_type": "markdown",
   "id": "37960d7c-ebf9-454f-a29d-ace2fda0c5a1",
   "metadata": {},
   "source": [
    "## Setup \n",
    "To begin using the package, import the required modules and initialize the processor."
   ]
  },
  {
   "cell_type": "code",
   "execution_count": 2,
   "id": "f4156122-79d7-411e-bfc0-ec5f187472ad",
   "metadata": {},
   "outputs": [],
   "source": [
    "from flatiron_cleaner.urothelial import DataProcessorUrothelial\n",
    "from flatiron_cleaner.merge_utils import merge_dataframes\n",
    "\n",
    "import pandas as pd"
   ]
  },
  {
   "cell_type": "code",
   "execution_count": 3,
   "id": "89cf07cf-1fa7-4b33-9dca-80477cae8493",
   "metadata": {},
   "outputs": [],
   "source": [
    "# Initialize class \n",
    "processor = DataProcessorUrothelial()"
   ]
  },
  {
   "cell_type": "code",
   "execution_count": 4,
   "id": "5eea825a-655e-418d-bea3-91e150015767",
   "metadata": {},
   "outputs": [],
   "source": [
    "# Import dataframe with index date of interest for PatientIDs\n",
    "df = pd.read_csv('../data_uro/LineOfTherapy.csv')"
   ]
  },
  {
   "cell_type": "code",
   "execution_count": 5,
   "id": "542eeb4a-ddb0-44d5-9b39-10e740fbde0b",
   "metadata": {},
   "outputs": [],
   "source": [
    "# For our example we'll select patients receiving first-line pembrolizumab or carpoplatin and gemcitabine. \n",
    "df = (\n",
    "    df\n",
    "    .query('LineNumber == 1')\n",
    "    .query('LineName == \"Pembrolizumab\" or LineName == \"Carboplatin,Gemcitabine\"')\n",
    "    [['PatientID', 'StartDate']]\n",
    ")\n",
    "ids = df.PatientID.to_list()"
   ]
  },
  {
   "cell_type": "code",
   "execution_count": 6,
   "id": "bd7a7610-a864-4bb1-bce6-4f0ee9257a24",
   "metadata": {},
   "outputs": [
    {
     "data": {
      "text/plain": [
       "(3712, 2)"
      ]
     },
     "execution_count": 6,
     "metadata": {},
     "output_type": "execute_result"
    }
   ],
   "source": [
    "df.shape"
   ]
  },
  {
   "cell_type": "markdown",
   "id": "b795c1e7-869e-400f-99a5-3c5487da7615",
   "metadata": {},
   "source": [
    "## Cleaning CSV Files \n",
    "Process individual data files using specialized functions. Each function handles data cleaning and standardization specific to the CSV file. "
   ]
  },
  {
   "cell_type": "code",
   "execution_count": 7,
   "id": "6f684915-a51d-4686-9646-f92eae6bdadf",
   "metadata": {},
   "outputs": [
    {
     "name": "stderr",
     "output_type": "stream",
     "text": [
      "2025-03-02 20:35:59,941 - INFO - Successfully read Enhanced_AdvUrothelial.csv file with shape: (13129, 13) and unique PatientIDs: 13129\n",
      "2025-03-02 20:35:59,941 - INFO - Filtering for 3712 specific PatientIDs\n",
      "2025-03-02 20:35:59,943 - INFO - Successfully filtered Enhanced_AdvUrothelial.csv file with shape: (3712, 13) and unique PatientIDs: 3712\n",
      "2025-03-02 20:35:59,954 - INFO - Successfully processed Enhanced_AdvUrothelial.csv file with final shape: (3712, 13) and unique PatientIDs: 3712\n"
     ]
    }
   ],
   "source": [
    "# Process Enhanced_AdvUrothelial.csv\n",
    "enhanced_df = processor.process_enhanced(file_path = '../data_uro/Enhanced_AdvUrothelial.csv', \n",
    "                                         patient_ids = ids)"
   ]
  },
  {
   "cell_type": "code",
   "execution_count": 8,
   "id": "653e48d3-b05c-44a9-8d6b-4395cc9ebfe9",
   "metadata": {},
   "outputs": [
    {
     "name": "stderr",
     "output_type": "stream",
     "text": [
      "2025-03-02 20:35:59,967 - INFO - Successfully read Demographics.csv file with shape: (13129, 6) and unique PatientIDs: 13129\n",
      "2025-03-02 20:35:59,977 - INFO - Successfully processed Demographics.csv file with final shape: (3712, 6) and unique PatientIDs: 3712\n"
     ]
    }
   ],
   "source": [
    "# Process Demographics.csv \n",
    "demographics_df = processor.process_demographics(file_path = '../data_uro/Demographics.csv',\n",
    "                                                 index_date_df = df,\n",
    "                                                 index_date_column = 'StartDate')"
   ]
  },
  {
   "cell_type": "code",
   "execution_count": 9,
   "id": "05214363-d452-487c-b511-cdf999d92228",
   "metadata": {},
   "outputs": [
    {
     "name": "stderr",
     "output_type": "stream",
     "text": [
      "2025-03-02 20:35:59,989 - INFO - Successfully read Practice.csv file with shape: (14181, 4) and unique PatientIDs: 13129\n",
      "2025-03-02 20:35:59,989 - INFO - Filtering for 3712 specific PatientIDs\n",
      "2025-03-02 20:35:59,991 - INFO - Successfully filtered Practice.csv file with shape: (4020, 4) and unique PatientIDs: 3712\n",
      "2025-03-02 20:36:00,036 - INFO - Successfully processed Practice.csv file with final shape: (3712, 2) and unique PatientIDs: 3712\n"
     ]
    }
   ],
   "source": [
    "# Process Practice.csv\n",
    "practice_df = processor.process_practice(file_path = '../data_uro/Practice.csv',\n",
    "                                         patient_ids = ids)"
   ]
  },
  {
   "cell_type": "code",
   "execution_count": 10,
   "id": "bdb30b7a-d6bb-4803-9ed2-cd64b2f4201e",
   "metadata": {},
   "outputs": [
    {
     "name": "stderr",
     "output_type": "stream",
     "text": [
      "2025-03-02 20:36:00,055 - INFO - Successfully read Enhanced_AdvUrothelialBiomarkers.csv file with shape: (9924, 19) and unique PatientIDs: 4251\n",
      "2025-03-02 20:36:00,064 - INFO - Successfully merged Enhanced_AdvUrothelialBiomarkers.csv df with index_date_df resulting in shape: (3886, 20) and unique PatientIDs: 1614\n",
      "2025-03-02 20:36:00,096 - INFO - Successfully processed Enhanced_AdvUrothelialBiomarkers.csv file with final shape: (3712, 4) and unique PatientIDs: 3712\n"
     ]
    }
   ],
   "source": [
    "# Process Enhanced_AdvUrothelialBiomarkers.csv\n",
    "biomarkers_df = processor.process_biomarkers(file_path = '../data_uro/Enhanced_AdvUrothelialBiomarkers.csv',\n",
    "                                             index_date_df = df, \n",
    "                                             index_date_column = 'StartDate',\n",
    "                                             days_before = None, \n",
    "                                             days_after = 14)"
   ]
  },
  {
   "cell_type": "code",
   "execution_count": 11,
   "id": "251ca60f-1b99-4f07-b47f-c98894f7092c",
   "metadata": {},
   "outputs": [
    {
     "name": "stderr",
     "output_type": "stream",
     "text": [
      "2025-03-02 20:36:00,164 - INFO - Successfully read ECOG.csv file with shape: (184794, 4) and unique PatientIDs: 9933\n",
      "2025-03-02 20:36:00,197 - INFO - Successfully merged ECOG.csv df with index_date_df resulting in shape: (66093, 5) and unique PatientIDs: 3110\n",
      "2025-03-02 20:36:00,252 - INFO - Successfully processed ECOG.csv file with final shape: (3712, 3) and unique PatientIDs: 3712\n"
     ]
    }
   ],
   "source": [
    "# Process ECOG.csv\n",
    "ecog_df = processor.process_ecog(file_path = '../data_uro/ECOG.csv', \n",
    "                                 index_date_df = df,\n",
    "                                 index_date_column = 'StartDate',\n",
    "                                 days_before = 90,\n",
    "                                 days_after = 0,\n",
    "                                 days_before_further = 180)"
   ]
  },
  {
   "cell_type": "code",
   "execution_count": 12,
   "id": "9a5ef167-0d91-4660-a8eb-ba7dbee00fe8",
   "metadata": {},
   "outputs": [
    {
     "name": "stderr",
     "output_type": "stream",
     "text": [
      "2025-03-02 20:36:03,784 - INFO - Successfully read Vitals.csv file with shape: (3604484, 16) and unique PatientIDs: 13109\n",
      "2025-03-02 20:36:05,146 - INFO - Successfully merged Vitals.csv df with index_date_df resulting in shape: (1122931, 17) and unique PatientIDs: 3712\n",
      "2025-03-02 20:36:05,672 - INFO - Successfully processed Vitals.csv file with final shape: (3712, 8) and unique PatientIDs: 3712\n"
     ]
    }
   ],
   "source": [
    "# Process Vitals.csv\n",
    "vitals_df = processor.process_vitals(file_path = '../data_uro/Vitals.csv',\n",
    "                                     index_date_df = df,\n",
    "                                     index_date_column = 'StartDate',\n",
    "                                     weight_days_before = 90,\n",
    "                                     days_after = 0,\n",
    "                                     vital_summary_lookback = 180, \n",
    "                                     abnormal_reading_threshold = 1)"
   ]
  },
  {
   "cell_type": "code",
   "execution_count": 13,
   "id": "33710973-645f-4b23-b8eb-b17d5662793e",
   "metadata": {},
   "outputs": [
    {
     "name": "stderr",
     "output_type": "stream",
     "text": [
      "2025-03-02 20:36:18,032 - INFO - Successfully read Lab.csv file with shape: (9373598, 17) and unique PatientIDs: 12700\n",
      "2025-03-02 20:36:20,496 - INFO - Successfully merged Lab.csv df with index_date_df resulting in shape: (3090751, 18) and unique PatientIDs: 3683\n",
      "2025-03-02 20:36:27,302 - INFO - Successfully processed Lab.csv file with final shape: (3712, 81) and unique PatientIDs: 3712\n"
     ]
    }
   ],
   "source": [
    "# Process Lab.csv\n",
    "labs_df = processor.process_labs(file_path = '../data_uro/Lab.csv',\n",
    "                                 index_date_df = df,\n",
    "                                 index_date_column = 'StartDate',\n",
    "                                 additional_loinc_mappings = {'crp': ['1988-5']},\n",
    "                                 days_before = 90,\n",
    "                                 days_after = 0,\n",
    "                                 summary_lookback = 180)"
   ]
  },
  {
   "cell_type": "code",
   "execution_count": 14,
   "id": "02d5e025-664e-4b36-84c8-1a3bee94f22f",
   "metadata": {},
   "outputs": [
    {
     "name": "stderr",
     "output_type": "stream",
     "text": [
      "2025-03-02 20:36:28,512 - INFO - Successfully read MedicationAdministration.csv file with shape: (997836, 11) and unique PatientIDs: 10983\n",
      "2025-03-02 20:36:28,795 - INFO - Successfully merged MedicationAdministration.csv df with index_date_df resulting in shape: (297479, 12) and unique PatientIDs: 3656\n",
      "2025-03-02 20:36:28,833 - INFO - Successfully processed MedicationAdministration.csv file with final shape: (3712, 9) and unique PatientIDs: 3712\n"
     ]
    }
   ],
   "source": [
    "# Process MedicationAdministration.csv\n",
    "medications_df = processor.process_medications(file_path = '../data_uro/MedicationAdministration.csv',\n",
    "                                               index_date_df = df,\n",
    "                                               index_date_column = 'StartDate',\n",
    "                                               days_before = 90,\n",
    "                                               days_after = 0)"
   ]
  },
  {
   "cell_type": "code",
   "execution_count": 15,
   "id": "307fb9fe-f8e2-4d76-a573-fdca852a1ac8",
   "metadata": {},
   "outputs": [
    {
     "name": "stderr",
     "output_type": "stream",
     "text": [
      "2025-03-02 20:36:29,232 - INFO - Successfully read Diagnosis.csv file with shape: (625348, 6) and unique PatientIDs: 13129\n",
      "2025-03-02 20:36:29,324 - INFO - Successfully merged Diagnosis.csv df with index_date_df resulting in shape: (167901, 7) and unique PatientIDs: 3712\n",
      "2025-03-02 20:36:29,917 - INFO - Successfully processed Diagnosis.csv file with final shape: (3712, 40) and unique PatientIDs: 3712\n"
     ]
    }
   ],
   "source": [
    "# Process Diagnsois.csv \n",
    "diagnosis_df = processor.process_diagnosis(file_path = '../data_uro/Diagnosis.csv',\n",
    "                                           index_date_df = df,\n",
    "                                           index_date_column = 'StartDate',\n",
    "                                           days_before = None,\n",
    "                                           days_after = 0)"
   ]
  },
  {
   "cell_type": "code",
   "execution_count": 16,
   "id": "c594fe3b-2a7e-42b2-b6a5-26a27a6e3712",
   "metadata": {},
   "outputs": [
    {
     "name": "stderr",
     "output_type": "stream",
     "text": [
      "2025-03-02 20:36:29,999 - INFO - Successfully read Insurance.csv file with shape: (53709, 14) and unique PatientIDs: 12391\n",
      "2025-03-02 20:36:30,036 - INFO - Successfully merged Insurance.csv df with index_date_df resulting in shape: (15340, 15) and unique PatientIDs: 3519\n",
      "2025-03-02 20:36:30,081 - INFO - Successfully processed Insurance.csv file with final shape: (3712, 5) and unique PatientIDs: 3712\n"
     ]
    }
   ],
   "source": [
    "# Process Insurance.csv \n",
    "insurance_df = processor.process_insurance(file_path = '../data_uro/Insurance.csv',\n",
    "                                           index_date_df = df,\n",
    "                                           index_date_column = 'StartDate',\n",
    "                                           days_before = None,\n",
    "                                           days_after = 0,\n",
    "                                           missing_date_strategy = 'liberal')"
   ]
  },
  {
   "cell_type": "code",
   "execution_count": 17,
   "id": "8c245ee5-fb03-46a7-9f2e-10113090d4a6",
   "metadata": {},
   "outputs": [
    {
     "ename": "ValueError",
     "evalue": "index_date_column not found in index_date_df",
     "output_type": "error",
     "traceback": [
      "\u001b[0;31m---------------------------------------------------------------------------\u001b[0m",
      "\u001b[0;31mValueError\u001b[0m                                Traceback (most recent call last)",
      "Cell \u001b[0;32mIn[17], line 2\u001b[0m\n\u001b[1;32m      1\u001b[0m \u001b[38;5;66;03m# Process Enhanced_Mortality_V2.csv and use visit, telemedicine, biomarkers, oral, and progression data to determine censoring date \u001b[39;00m\n\u001b[0;32m----> 2\u001b[0m mortality_df \u001b[38;5;241m=\u001b[39m \u001b[43mprocessor\u001b[49m\u001b[38;5;241;43m.\u001b[39;49m\u001b[43mprocess_mortality\u001b[49m\u001b[43m(\u001b[49m\u001b[43mfile_path\u001b[49m\u001b[43m \u001b[49m\u001b[38;5;241;43m=\u001b[39;49m\u001b[43m \u001b[49m\u001b[38;5;124;43m'\u001b[39;49m\u001b[38;5;124;43m../data_uro/Enhanced_Mortality_V2.csv\u001b[39;49m\u001b[38;5;124;43m'\u001b[39;49m\u001b[43m,\u001b[49m\n\u001b[1;32m      3\u001b[0m \u001b[43m                                           \u001b[49m\u001b[43mindex_date_df\u001b[49m\u001b[43m \u001b[49m\u001b[38;5;241;43m=\u001b[39;49m\u001b[43m \u001b[49m\u001b[43mdf\u001b[49m\u001b[43m,\u001b[49m\u001b[43m \u001b[49m\n\u001b[1;32m      4\u001b[0m \u001b[43m                                           \u001b[49m\u001b[43mindex_date_column\u001b[49m\u001b[43m \u001b[49m\u001b[38;5;241;43m=\u001b[39;49m\u001b[43m \u001b[49m\u001b[38;5;124;43m'\u001b[39;49m\u001b[38;5;124;43mStartDate\u001b[39;49m\u001b[38;5;124;43m'\u001b[39;49m\u001b[43m,\u001b[49m\n\u001b[1;32m      5\u001b[0m \u001b[43m                                           \u001b[49m\u001b[43mvisit_path\u001b[49m\u001b[43m \u001b[49m\u001b[38;5;241;43m=\u001b[39;49m\u001b[43m \u001b[49m\u001b[38;5;124;43m'\u001b[39;49m\u001b[38;5;124;43m../data_uro/Visit.csv\u001b[39;49m\u001b[38;5;124;43m'\u001b[39;49m\u001b[43m,\u001b[49m\u001b[43m \u001b[49m\n\u001b[1;32m      6\u001b[0m \u001b[43m                                           \u001b[49m\u001b[43mtelemedicine_path\u001b[49m\u001b[43m \u001b[49m\u001b[38;5;241;43m=\u001b[39;49m\u001b[43m \u001b[49m\u001b[38;5;124;43m'\u001b[39;49m\u001b[38;5;124;43m../data_uro/Telemedicine.csv\u001b[39;49m\u001b[38;5;124;43m'\u001b[39;49m\u001b[43m,\u001b[49m\u001b[43m \u001b[49m\n\u001b[1;32m      7\u001b[0m \u001b[43m                                           \u001b[49m\u001b[43mbiomarkers_path\u001b[49m\u001b[43m \u001b[49m\u001b[38;5;241;43m=\u001b[39;49m\u001b[43m \u001b[49m\u001b[38;5;124;43m'\u001b[39;49m\u001b[38;5;124;43m../data_uro/Enhanced_AdvUrothelialBiomarkers.csv\u001b[39;49m\u001b[38;5;124;43m'\u001b[39;49m\u001b[43m,\u001b[49m\u001b[43m \u001b[49m\n\u001b[1;32m      8\u001b[0m \u001b[43m                                           \u001b[49m\u001b[43moral_path\u001b[49m\u001b[43m \u001b[49m\u001b[38;5;241;43m=\u001b[39;49m\u001b[43m \u001b[49m\u001b[38;5;124;43m'\u001b[39;49m\u001b[38;5;124;43m../data_uro/Enhanced_AdvUrothelial_Orals.csv\u001b[39;49m\u001b[38;5;124;43m'\u001b[39;49m\u001b[43m,\u001b[49m\n\u001b[1;32m      9\u001b[0m \u001b[43m                                           \u001b[49m\u001b[43mprogression_path\u001b[49m\u001b[43m \u001b[49m\u001b[38;5;241;43m=\u001b[39;49m\u001b[43m \u001b[49m\u001b[38;5;124;43m'\u001b[39;49m\u001b[38;5;124;43m../data_uro/Enhanced_AdvUrothelial_Progression.csv\u001b[39;49m\u001b[38;5;124;43m'\u001b[39;49m\u001b[43m,\u001b[49m\n\u001b[1;32m     10\u001b[0m \u001b[43m                                           \u001b[49m\u001b[43mdrop_dates\u001b[49m\u001b[43m \u001b[49m\u001b[38;5;241;43m=\u001b[39;49m\u001b[43m \u001b[49m\u001b[38;5;28;43;01mTrue\u001b[39;49;00m\u001b[43m)\u001b[49m\n",
      "File \u001b[0;32m~/Dropbox/FlatironCleaner/flatiron_cleaner/urothelial.py:883\u001b[0m, in \u001b[0;36mDataProcessorUrothelial.process_mortality\u001b[0;34m(self, file_path, index_date_df, index_date_column, visit_path, telemedicine_path, biomarkers_path, oral_path, progression_path, drop_dates)\u001b[0m\n\u001b[1;32m    881\u001b[0m     \u001b[38;5;28;01mraise\u001b[39;00m \u001b[38;5;167;01mValueError\u001b[39;00m(\u001b[38;5;124m\"\u001b[39m\u001b[38;5;124mindex_date_df must contain a \u001b[39m\u001b[38;5;124m'\u001b[39m\u001b[38;5;124mPatientID\u001b[39m\u001b[38;5;124m'\u001b[39m\u001b[38;5;124m column\u001b[39m\u001b[38;5;124m\"\u001b[39m)\n\u001b[1;32m    882\u001b[0m \u001b[38;5;28;01mif\u001b[39;00m \u001b[38;5;129;01mnot\u001b[39;00m index_date_column \u001b[38;5;129;01mor\u001b[39;00m index_date_column \u001b[38;5;129;01mnot\u001b[39;00m \u001b[38;5;129;01min\u001b[39;00m index_date_df\u001b[38;5;241m.\u001b[39mcolumns:\n\u001b[0;32m--> 883\u001b[0m     \u001b[38;5;28;01mraise\u001b[39;00m \u001b[38;5;167;01mValueError\u001b[39;00m(\u001b[38;5;124m'\u001b[39m\u001b[38;5;124mindex_date_column not found in index_date_df\u001b[39m\u001b[38;5;124m'\u001b[39m)\n\u001b[1;32m    884\u001b[0m \u001b[38;5;28;01mif\u001b[39;00m index_date_df[\u001b[38;5;124m'\u001b[39m\u001b[38;5;124mPatientID\u001b[39m\u001b[38;5;124m'\u001b[39m]\u001b[38;5;241m.\u001b[39mduplicated()\u001b[38;5;241m.\u001b[39many():\n\u001b[1;32m    885\u001b[0m     \u001b[38;5;28;01mraise\u001b[39;00m \u001b[38;5;167;01mValueError\u001b[39;00m(\u001b[38;5;124m\"\u001b[39m\u001b[38;5;124mindex_date_df contains duplicate PatientID values, which is not allowed\u001b[39m\u001b[38;5;124m\"\u001b[39m)\n",
      "\u001b[0;31mValueError\u001b[0m: index_date_column not found in index_date_df"
     ]
    }
   ],
   "source": [
    "# Process Enhanced_Mortality_V2.csv and use visit, telemedicine, biomarkers, oral, and progression data to determine censoring date \n",
    "mortality_df = processor.process_mortality(file_path = '../data_uro/Enhanced_Mortality_V2.csv',\n",
    "                                           index_date_df = df, \n",
    "                                           index_date_column = 'StartDate',\n",
    "                                           visit_path = '../data_uro/Visit.csv', \n",
    "                                           telemedicine_path = '../data_uro/Telemedicine.csv', \n",
    "                                           biomarkers_path = '../data_uro/Enhanced_AdvUrothelialBiomarkers.csv', \n",
    "                                           oral_path = '../data_uro/Enhanced_AdvUrothelial_Orals.csv',\n",
    "                                           progression_path = '../data_uro/Enhanced_AdvUrothelial_Progression.csv',\n",
    "                                           drop_dates = True)"
   ]
  },
  {
   "cell_type": "markdown",
   "id": "559cfafd-2fc8-4c6c-a27b-5954aa4ca96e",
   "metadata": {},
   "source": [
    "## Merge Processed Dataframes\n",
    "Merge the processed dataframes into a single analysis-ready dataset"
   ]
  },
  {
   "cell_type": "code",
   "execution_count": null,
   "id": "31baccb7-978d-4a63-b37c-871baaee556f",
   "metadata": {},
   "outputs": [],
   "source": [
    "merged_data = merge_dataframes(enhanced_df, \n",
    "                               demographics_df, \n",
    "                               practice_df, \n",
    "                               biomarkers_df, \n",
    "                               ecog_df, \n",
    "                               vitals_df,\n",
    "                               labs_df,\n",
    "                               medications_df, \n",
    "                               diagnosis_df, \n",
    "                               insurance_df,\n",
    "                               mortality_df, )"
   ]
  },
  {
   "cell_type": "code",
   "execution_count": null,
   "id": "e4357e47-cf24-4c71-9cf1-dbd5868bae37",
   "metadata": {},
   "outputs": [],
   "source": [
    "merged_data.columns.to_list()"
   ]
  },
  {
   "cell_type": "code",
   "execution_count": null,
   "id": "1d311fd5-28b1-43f2-8851-ed2e38cca070",
   "metadata": {},
   "outputs": [],
   "source": [
    "for col, dtype in merged_data.dtypes.items():\n",
    "    print(f\"{col}: {dtype}\")"
   ]
  }
 ],
 "metadata": {
  "kernelspec": {
   "display_name": "Python 3 (ipykernel)",
   "language": "python",
   "name": "python3"
  },
  "language_info": {
   "codemirror_mode": {
    "name": "ipython",
    "version": 3
   },
   "file_extension": ".py",
   "mimetype": "text/x-python",
   "name": "python",
   "nbconvert_exporter": "python",
   "pygments_lexer": "ipython3",
   "version": "3.13.1"
  }
 },
 "nbformat": 4,
 "nbformat_minor": 5
}
