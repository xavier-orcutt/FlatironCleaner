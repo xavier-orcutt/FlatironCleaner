{
 "cells": [
  {
   "cell_type": "markdown",
   "id": "8d900252-4907-48ef-97ab-fffa4f2a93b6",
   "metadata": {},
   "source": [
    "# Tutorial of DataProcessorUrothelial\n",
    "\n",
    "The DataProcessorUrothelial package streamlines the processing of Flatiron Health's advanced urothelial cancer datasets. It provides specialized functions to clean and standardize CSV files containing clinical data (eg., demographics, vitals, labs, medications, ICD codes). Each processing function handles format-specific requirements and common data quality issues, outputting standardized dataframes that can be merged into a single, comprehensive dataset ready for analysis."
   ]
  },
  {
   "cell_type": "code",
   "execution_count": 1,
   "id": "4ab96521-8257-4c74-9862-528dc842b80f",
   "metadata": {},
   "outputs": [],
   "source": [
    "# Development setup only \n",
    "# These lines are only needed when running this notebook from the example folder in the repository\n",
    "import sys\n",
    "import os\n",
    "sys.path.append(os.path.abspath(os.path.join(os.getcwd(), '..')))"
   ]
  },
  {
   "cell_type": "markdown",
   "id": "37960d7c-ebf9-454f-a29d-ace2fda0c5a1",
   "metadata": {},
   "source": [
    "## Setup \n",
    "To begin using the package, import the required modules and initialize the processor."
   ]
  },
  {
   "cell_type": "code",
   "execution_count": 2,
   "id": "f4156122-79d7-411e-bfc0-ec5f187472ad",
   "metadata": {},
   "outputs": [],
   "source": [
    "from flatiron_cleaner.urothelial import DataProcessorUrothelial\n",
    "from flatiron_cleaner.merge_utils import merge_dataframes\n",
    "\n",
    "import pandas as pd"
   ]
  },
  {
   "cell_type": "code",
   "execution_count": 3,
   "id": "89cf07cf-1fa7-4b33-9dca-80477cae8493",
   "metadata": {},
   "outputs": [],
   "source": [
    "# Initialize class \n",
    "processor = DataProcessorUrothelial()"
   ]
  },
  {
   "cell_type": "code",
   "execution_count": 4,
   "id": "5eea825a-655e-418d-bea3-91e150015767",
   "metadata": {},
   "outputs": [],
   "source": [
    "# Import dataframe with index date of interest for PatientIDs\n",
    "df = pd.read_csv('../data_uro/Enhanced_AdvUrothelial.csv')"
   ]
  },
  {
   "cell_type": "code",
   "execution_count": 5,
   "id": "dead9796-cf7a-4884-91c9-c99b35d7d46a",
   "metadata": {},
   "outputs": [],
   "source": [
    "# For our example we'll select 1000 random patients to clean\n",
    "df = df.sample(n = 1000, random_state = 42)\n",
    "ids = df.PatientID.to_list()"
   ]
  },
  {
   "cell_type": "markdown",
   "id": "b795c1e7-869e-400f-99a5-3c5487da7615",
   "metadata": {},
   "source": [
    "## Cleaning CSV Files \n",
    "Process individual data files using specialized functions. Each function handles data cleaning and standardization specific to the CSV file. "
   ]
  },
  {
   "cell_type": "code",
   "execution_count": 6,
   "id": "6f684915-a51d-4686-9646-f92eae6bdadf",
   "metadata": {},
   "outputs": [
    {
     "name": "stderr",
     "output_type": "stream",
     "text": [
      "2025-03-01 15:21:40,449 - INFO - Successfully read Enhanced_AdvUrothelial.csv file with shape: (13129, 13) and unique PatientIDs: 13129\n",
      "2025-03-01 15:21:40,450 - INFO - Filtering for 1000 specific PatientIDs\n",
      "2025-03-01 15:21:40,452 - INFO - Successfully filtered Enhanced_AdvUrothelial.csv file with shape: (1000, 13) and unique PatientIDs: 1000\n",
      "2025-03-01 15:21:40,461 - INFO - Successfully processed Enhanced_AdvUrothelial.csv file with final shape: (1000, 13) and unique PatientIDs: 1000\n"
     ]
    }
   ],
   "source": [
    "# Process Enhanced_AdvUrothelial.csv\n",
    "enhanced_df = processor.process_enhanced(file_path = '../data_uro/Enhanced_AdvUrothelial.csv', \n",
    "                                         patient_ids = ids)"
   ]
  },
  {
   "cell_type": "code",
   "execution_count": 7,
   "id": "653e48d3-b05c-44a9-8d6b-4395cc9ebfe9",
   "metadata": {},
   "outputs": [
    {
     "name": "stderr",
     "output_type": "stream",
     "text": [
      "2025-03-01 15:21:40,474 - INFO - Successfully read Demographics.csv file with shape: (13129, 6) and unique PatientIDs: 13129\n",
      "2025-03-01 15:21:40,484 - INFO - Successfully processed Demographics.csv file with final shape: (1000, 6) and unique PatientIDs: 1000\n"
     ]
    }
   ],
   "source": [
    "# Process Demographics.csv \n",
    "demographics_df = processor.process_demographics(file_path = '../data_uro/Demographics.csv',\n",
    "                                                 index_date_df = df,\n",
    "                                                 index_date_column = 'AdvancedDiagnosisDate')"
   ]
  },
  {
   "cell_type": "code",
   "execution_count": 8,
   "id": "05214363-d452-487c-b511-cdf999d92228",
   "metadata": {},
   "outputs": [
    {
     "name": "stderr",
     "output_type": "stream",
     "text": [
      "2025-03-01 15:21:40,495 - INFO - Successfully read Practice.csv file with shape: (14181, 4) and unique PatientIDs: 13129\n",
      "2025-03-01 15:21:40,495 - INFO - Filtering for 1000 specific PatientIDs\n",
      "2025-03-01 15:21:40,497 - INFO - Successfully filtered Practice.csv file with shape: (1082, 4) and unique PatientIDs: 1000\n",
      "2025-03-01 15:21:40,513 - INFO - Successfully processed Practice.csv file with final shape: (1000, 2) and unique PatientIDs: 1000\n"
     ]
    }
   ],
   "source": [
    "# Process Practice.csv\n",
    "practice_df = processor.process_practice(file_path = '../data_uro/Practice.csv',\n",
    "                                         patient_ids = ids)"
   ]
  },
  {
   "cell_type": "code",
   "execution_count": 9,
   "id": "bdb30b7a-d6bb-4803-9ed2-cd64b2f4201e",
   "metadata": {},
   "outputs": [
    {
     "name": "stderr",
     "output_type": "stream",
     "text": [
      "2025-03-01 15:21:40,533 - INFO - Successfully read Enhanced_AdvUrothelialBiomarkers.csv file with shape: (9924, 19) and unique PatientIDs: 4251\n",
      "2025-03-01 15:21:40,539 - INFO - Successfully merged Enhanced_AdvUrothelialBiomarkers.csv df with index_date_df resulting in shape: (768, 20) and unique PatientIDs: 329\n",
      "2025-03-01 15:21:40,550 - INFO - Successfully processed Enhanced_AdvUrothelialBiomarkers.csv file with final shape: (1000, 4) and unique PatientIDs: 1000\n"
     ]
    }
   ],
   "source": [
    "# Process Enhanced_AdvUrothelialBiomarkers.csv\n",
    "biomarkers_df = processor.process_biomarkers(file_path = '../data_uro/Enhanced_AdvUrothelialBiomarkers.csv',\n",
    "                                             index_date_df = df, \n",
    "                                             index_date_column = 'AdvancedDiagnosisDate',\n",
    "                                             days_before = None, \n",
    "                                             days_after = 14)\n",
    "\n",
    "# Empty values are replaced with \"unknown\"\n",
    "biomarkers_df['PDL1_status'] = biomarkers_df['PDL1_status'].fillna('unknown')\n",
    "\n",
    "biomarkers_df['FGFR_status'] = biomarkers_df['FGFR_status'].cat.add_categories('unknown')\n",
    "biomarkers_df['FGFR_status'] = biomarkers_df['FGFR_status'].fillna('unknown')"
   ]
  },
  {
   "cell_type": "code",
   "execution_count": 10,
   "id": "251ca60f-1b99-4f07-b47f-c98894f7092c",
   "metadata": {},
   "outputs": [
    {
     "name": "stderr",
     "output_type": "stream",
     "text": [
      "2025-03-01 15:21:40,616 - INFO - Successfully read ECOG.csv file with shape: (184794, 4) and unique PatientIDs: 9933\n",
      "2025-03-01 15:21:40,642 - INFO - Successfully merged ECOG.csv df with index_date_df resulting in shape: (14342, 5) and unique PatientIDs: 768\n",
      "2025-03-01 15:21:40,653 - INFO - Successfully processed ECOG.csv file with final shape: (1000, 3) and unique PatientIDs: 1000\n"
     ]
    }
   ],
   "source": [
    "# Process ECOG.csv\n",
    "ecog_df = processor.process_ecog(file_path = '../data_uro/ECOG.csv', \n",
    "                                 index_date_df = df,\n",
    "                                 index_date_column = 'AdvancedDiagnosisDate',\n",
    "                                 days_before = 90,\n",
    "                                 days_after = 0,\n",
    "                                 days_before_further = 180)"
   ]
  },
  {
   "cell_type": "code",
   "execution_count": 11,
   "id": "9a5ef167-0d91-4660-a8eb-ba7dbee00fe8",
   "metadata": {},
   "outputs": [
    {
     "name": "stderr",
     "output_type": "stream",
     "text": [
      "2025-03-01 15:21:44,330 - INFO - Successfully read Vitals.csv file with shape: (3604484, 16) and unique PatientIDs: 13109\n",
      "2025-03-01 15:21:45,496 - INFO - Successfully merged Vitals.csv df with index_date_df resulting in shape: (264027, 17) and unique PatientIDs: 997\n",
      "2025-03-01 15:21:45,600 - INFO - Successfully processed Vitals.csv file with final shape: (1000, 8) and unique PatientIDs: 1000\n"
     ]
    }
   ],
   "source": [
    "# Process Vitals.csv\n",
    "vitals_df = processor.process_vitals(file_path = '../data_uro/Vitals.csv',\n",
    "                                     index_date_df = df,\n",
    "                                     index_date_column = 'AdvancedDiagnosisDate',\n",
    "                                     weight_days_before = 90,\n",
    "                                     days_after = 0,\n",
    "                                     vital_summary_lookback = 180, \n",
    "                                     abnormal_reading_threshold = 1)"
   ]
  },
  {
   "cell_type": "code",
   "execution_count": null,
   "id": "33710973-645f-4b23-b8eb-b17d5662793e",
   "metadata": {},
   "outputs": [],
   "source": [
    "# Process Lab.csv\n",
    "labs_df = processor.process_labs(file_path = '../data_uro/Lab.csv',\n",
    "                                 index_date_df = df,\n",
    "                                 index_date_column = 'AdvancedDiagnosisDate',\n",
    "                                 additional_loinc_mappings = {'crp': ['1988-5']},\n",
    "                                 days_before = 90,\n",
    "                                 days_after = 0,\n",
    "                                 summary_lookback = 180)"
   ]
  },
  {
   "cell_type": "code",
   "execution_count": null,
   "id": "02d5e025-664e-4b36-84c8-1a3bee94f22f",
   "metadata": {},
   "outputs": [],
   "source": [
    "# Process MedicationAdministration.csv\n",
    "medications_df = processor.process_medications(file_path = '../data_uro/MedicationAdministration.csv',\n",
    "                                               index_date_df = df,\n",
    "                                               index_date_column = 'AdvancedDiagnosisDate',\n",
    "                                               days_before = 90,\n",
    "                                               days_after = 0)"
   ]
  },
  {
   "cell_type": "code",
   "execution_count": null,
   "id": "307fb9fe-f8e2-4d76-a573-fdca852a1ac8",
   "metadata": {},
   "outputs": [],
   "source": [
    "# Process Diagnsois.csv \n",
    "diagnosis_df = processor.process_diagnosis(file_path = '../data_uro/Diagnosis.csv',\n",
    "                                           index_date_df = df,\n",
    "                                           index_date_column = 'AdvancedDiagnosisDate',\n",
    "                                           days_before = None,\n",
    "                                           days_after = 0)"
   ]
  },
  {
   "cell_type": "code",
   "execution_count": null,
   "id": "c594fe3b-2a7e-42b2-b6a5-26a27a6e3712",
   "metadata": {},
   "outputs": [],
   "source": [
    "# Process Insurance.csv \n",
    "insurance_df = processor.process_insurance(file_path = '../data_uro/Insurance.csv',\n",
    "                                           index_date_df = df,\n",
    "                                           index_date_column = 'AdvancedDiagnosisDate',\n",
    "                                           days_before = None,\n",
    "                                           days_after = 0,\n",
    "                                           missing_date_strategy = 'liberal')"
   ]
  },
  {
   "cell_type": "code",
   "execution_count": null,
   "id": "8c245ee5-fb03-46a7-9f2e-10113090d4a6",
   "metadata": {},
   "outputs": [],
   "source": [
    "# Process Enhanced_Mortality_V2.csv and use visit, telemedicine, biomarkers, oral, and progression data to determine censoring date \n",
    "mortality_df = processor.process_mortality(file_path = '../data_uro/Enhanced_Mortality_V2.csv',\n",
    "                                           index_date_df = df, \n",
    "                                           index_date_column = 'AdvancedDiagnosisDate',\n",
    "                                           visit_path = '../data_uro/Visit.csv', \n",
    "                                           telemedicine_path = '../data_uro/Telemedicine.csv', \n",
    "                                           biomarkers_path = '../data_uro/Enhanced_AdvUrothelialBiomarkers.csv', \n",
    "                                           oral_path = '../data_uro/Enhanced_AdvUrothelial_Orals.csv',\n",
    "                                           progression_path = '../data_uro/Enhanced_AdvUrothelial_Progression.csv',\n",
    "                                           drop_dates = True)"
   ]
  },
  {
   "cell_type": "markdown",
   "id": "559cfafd-2fc8-4c6c-a27b-5954aa4ca96e",
   "metadata": {},
   "source": [
    "## Merge Processed Dataframes\n",
    "Merge the processed dataframes into a single analysis-ready dataset"
   ]
  },
  {
   "cell_type": "code",
   "execution_count": null,
   "id": "31baccb7-978d-4a63-b37c-871baaee556f",
   "metadata": {},
   "outputs": [],
   "source": [
    "merged_data = merge_dataframes(enhanced_df, \n",
    "                               demographics_df, \n",
    "                               practice_df, \n",
    "                               biomarkers_df, \n",
    "                               ecog_df, \n",
    "                               vitals_df,\n",
    "                               labs_df,\n",
    "                               medications_df, \n",
    "                               diagnosis_df, \n",
    "                               insurance_df,\n",
    "                               mortality_df, )"
   ]
  },
  {
   "cell_type": "code",
   "execution_count": null,
   "id": "e4357e47-cf24-4c71-9cf1-dbd5868bae37",
   "metadata": {},
   "outputs": [],
   "source": [
    "merged_data.columns.to_list()"
   ]
  },
  {
   "cell_type": "code",
   "execution_count": null,
   "id": "1d311fd5-28b1-43f2-8851-ed2e38cca070",
   "metadata": {},
   "outputs": [],
   "source": [
    "for col, dtype in merged_data.dtypes.items():\n",
    "    print(f\"{col}: {dtype}\")"
   ]
  }
 ],
 "metadata": {
  "kernelspec": {
   "display_name": "Python 3 (ipykernel)",
   "language": "python",
   "name": "python3"
  },
  "language_info": {
   "codemirror_mode": {
    "name": "ipython",
    "version": 3
   },
   "file_extension": ".py",
   "mimetype": "text/x-python",
   "name": "python",
   "nbconvert_exporter": "python",
   "pygments_lexer": "ipython3",
   "version": "3.13.1"
  }
 },
 "nbformat": 4,
 "nbformat_minor": 5
}
