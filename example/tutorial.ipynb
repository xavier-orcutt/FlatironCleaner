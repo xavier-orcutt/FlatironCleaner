{
 "cells": [
  {
   "cell_type": "markdown",
   "id": "8d900252-4907-48ef-97ab-fffa4f2a93b6",
   "metadata": {},
   "source": [
    "# Tutorial of DataProcessorUrothelial \n",
    "\n",
    "The DataProcessorUrothelial package streamlines the processing of Flatiron Health's advanced urothelial cancer datasets. It provides specialized functions to clean and standardize CSV files containing clinical data (eg., demographics, vitals, labs, medications, ICD codes). Each processing function handles format-specific requirements and common data quality issues, outputting standardized dataframes that can be merged into a single, comprehensive dataset ready for analysis."
   ]
  },
  {
   "cell_type": "code",
   "execution_count": 1,
   "id": "4ab96521-8257-4c74-9862-528dc842b80f",
   "metadata": {},
   "outputs": [],
   "source": [
    "# Development setup only \n",
    "# These lines are only needed when running this notebook from the repository\n",
    "import sys\n",
    "from pathlib import Path\n",
    "src_path = str(Path('../src').resolve())\n",
    "sys.path.append(src_path)"
   ]
  },
  {
   "cell_type": "markdown",
   "id": "37960d7c-ebf9-454f-a29d-ace2fda0c5a1",
   "metadata": {},
   "source": [
    "## Setup \n",
    "To begin using the package, import the required modules and initialize the processor."
   ]
  },
  {
   "cell_type": "code",
   "execution_count": 2,
   "id": "f4156122-79d7-411e-bfc0-ec5f187472ad",
   "metadata": {},
   "outputs": [],
   "source": [
    "from urothelial_processor import DataProcessorUrothelial\n",
    "from merge_utils import merge_dataframes\n",
    "\n",
    "import pandas as pd"
   ]
  },
  {
   "cell_type": "code",
   "execution_count": 3,
   "id": "89cf07cf-1fa7-4b33-9dca-80477cae8493",
   "metadata": {},
   "outputs": [],
   "source": [
    "# Initialize class \n",
    "processor = DataProcessorUrothelial()"
   ]
  },
  {
   "cell_type": "code",
   "execution_count": 4,
   "id": "5eea825a-655e-418d-bea3-91e150015767",
   "metadata": {},
   "outputs": [],
   "source": [
    "# Import dataframe with index date of interest for PatientIDs\n",
    "df = pd.read_csv('../data/Enhanced_AdvUrothelial.csv')"
   ]
  },
  {
   "cell_type": "code",
   "execution_count": 5,
   "id": "dead9796-cf7a-4884-91c9-c99b35d7d46a",
   "metadata": {},
   "outputs": [],
   "source": [
    "# For our example we'll select 1000 random patients to clean\n",
    "df = df.sample(1000)\n",
    "ids = df.PatientID.to_list()"
   ]
  },
  {
   "cell_type": "markdown",
   "id": "b795c1e7-869e-400f-99a5-3c5487da7615",
   "metadata": {},
   "source": [
    "## Cleaning CSV Files \n",
    "Process individual data files using specialized functions. Each function handles data cleaning and standardization specific to the CSV file. "
   ]
  },
  {
   "cell_type": "code",
   "execution_count": 6,
   "id": "6f684915-a51d-4686-9646-f92eae6bdadf",
   "metadata": {},
   "outputs": [
    {
     "name": "stderr",
     "output_type": "stream",
     "text": [
      "2025-02-20 14:23:05,946 - INFO - Successfully read Enhanced_AdvUrothelial.csv file with shape: (13129, 13) and unique PatientIDs: 13129\n",
      "2025-02-20 14:23:05,946 - INFO - Filtering for 1000 specific PatientIDs\n",
      "2025-02-20 14:23:05,948 - INFO - Successfully filtered Enhanced_AdvUrothelial.csv file with shape: (1000, 13) and unique PatientIDs: 1000\n",
      "2025-02-20 14:23:05,957 - INFO - Successfully processed Enhanced_AdvUrothelial.csv file with final shape: (1000, 13) and unique PatientIDs: 1000\n"
     ]
    }
   ],
   "source": [
    "# Process Enhanced_AdvUrothelial.csv\n",
    "enhanced_df = processor.process_enhanced_adv(file_path = '../data/Enhanced_AdvUrothelial.csv', \n",
    "                                             patient_ids = ids)"
   ]
  },
  {
   "cell_type": "code",
   "execution_count": 7,
   "id": "653e48d3-b05c-44a9-8d6b-4395cc9ebfe9",
   "metadata": {},
   "outputs": [
    {
     "name": "stderr",
     "output_type": "stream",
     "text": [
      "2025-02-20 14:23:05,967 - INFO - Successfully read Demographics.csv file with shape: (13129, 6) and unique PatientIDs: 13129\n",
      "2025-02-20 14:23:05,975 - INFO - Successfully processed Demographics.csv file with final shape: (1000, 6) and unique PatientIDs: 1000\n"
     ]
    }
   ],
   "source": [
    "# Process Demographics.csv \n",
    "demographics_df = processor.process_demographics(file_path = '../data/Demographics.csv',\n",
    "                                                 index_date_df = df,\n",
    "                                                 index_date_column = 'AdvancedDiagnosisDate')"
   ]
  },
  {
   "cell_type": "code",
   "execution_count": 8,
   "id": "05214363-d452-487c-b511-cdf999d92228",
   "metadata": {},
   "outputs": [
    {
     "name": "stderr",
     "output_type": "stream",
     "text": [
      "2025-02-20 14:23:05,986 - INFO - Successfully read Practice.csv file with shape: (14181, 4) and unique PatientIDs: 13129\n",
      "2025-02-20 14:23:05,986 - INFO - Filtering for 1000 specific PatientIDs\n",
      "2025-02-20 14:23:05,988 - INFO - Successfully filtered Practice.csv file with shape: (1072, 4) and unique PatientIDs: 1000\n",
      "2025-02-20 14:23:06,003 - INFO - Successfully processed Practice.csv file with final shape: (1000, 2) and unique PatientIDs: 1000\n"
     ]
    }
   ],
   "source": [
    "# Process Practice.csv\n",
    "practice_df = processor.process_practice(file_path = '../data/Practice.csv',\n",
    "                                         patient_ids = ids)"
   ]
  },
  {
   "cell_type": "code",
   "execution_count": 9,
   "id": "99993c89-318f-46a2-bd5e-8e2a304a54ea",
   "metadata": {},
   "outputs": [
    {
     "name": "stderr",
     "output_type": "stream",
     "text": [
      "2025-02-20 14:23:06,009 - INFO - Successfully read Enhanced_Mortality_V2.csv file with shape: (9040, 2) and unique PatientIDs: 9040\n",
      "2025-02-20 14:23:06,017 - INFO - Successfully merged Enhanced_Mortality_V2.csv df with index_date_df resulting in shape: (1000, 3) and unique PatientIDs: 1000\n",
      "2025-02-20 14:23:06,368 - INFO - The follwing columns ['last_visit_date', 'last_oral_date', 'last_biomarker_date', 'last_progression_date'] are used to calculate the last EHR date\n",
      "2025-02-20 14:23:06,371 - INFO - Successfully processed Enhanced_Mortality_V2.csv file with final shape: (1000, 3) and unique PatientIDs: 1000. There are 0 out of 1000 patients with missing duration values\n"
     ]
    }
   ],
   "source": [
    "# Process Enhanced_Mortality_V2.csv and use visit, telemedicine, biomarkers, oral, and progression data to determine censoring date \n",
    "mortality_df = processor.process_mortality(file_path = '../data/Enhanced_Mortality_V2.csv',\n",
    "                                           index_date_df = df, \n",
    "                                           index_date_column = 'AdvancedDiagnosisDate',\n",
    "                                           visit_path = '../data/Visit.csv', \n",
    "                                           telemedicine_path = '../data/Telemedicine.csv', \n",
    "                                           biomarker_path = '../data/Enhanced_AdvUrothelialBiomarkers.csv', \n",
    "                                           oral_path = '../data/Enhanced_AdvUrothelial_Orals.csv',\n",
    "                                           progression_path = '../data/Enhanced_AdvUrothelial_Progression.csv')"
   ]
  },
  {
   "cell_type": "code",
   "execution_count": 10,
   "id": "bdb30b7a-d6bb-4803-9ed2-cd64b2f4201e",
   "metadata": {},
   "outputs": [
    {
     "name": "stderr",
     "output_type": "stream",
     "text": [
      "2025-02-20 14:23:06,400 - INFO - Successfully read Enhanced_AdvUrothelialBiomarkers.csv file with shape: (9924, 19) and unique PatientIDs: 4251\n",
      "2025-02-20 14:23:06,406 - INFO - Successfully merged Enhanced_AdvUrothelialBiomarkers.csv df with index_date_df resulting in shape: (738, 20) and unique PatientIDs: 326\n",
      "2025-02-20 14:23:06,417 - INFO - Successfully processed Enhanced_AdvUrothelialBiomarkers.csv file with final shape: (1000, 4) and unique PatientIDs: 1000\n"
     ]
    },
    {
     "ename": "ValueError",
     "evalue": "new categories must not include old categories: {'unknown'}",
     "output_type": "error",
     "traceback": [
      "\u001b[0;31m---------------------------------------------------------------------------\u001b[0m",
      "\u001b[0;31mValueError\u001b[0m                                Traceback (most recent call last)",
      "Cell \u001b[0;32mIn[10], line 9\u001b[0m\n\u001b[1;32m      2\u001b[0m biomarkers_df \u001b[38;5;241m=\u001b[39m processor\u001b[38;5;241m.\u001b[39mprocess_biomarkers(file_path \u001b[38;5;241m=\u001b[39m \u001b[38;5;124m'\u001b[39m\u001b[38;5;124m../data/Enhanced_AdvUrothelialBiomarkers.csv\u001b[39m\u001b[38;5;124m'\u001b[39m,\n\u001b[1;32m      3\u001b[0m                                              index_date_df \u001b[38;5;241m=\u001b[39m df, \n\u001b[1;32m      4\u001b[0m                                              index_date_column \u001b[38;5;241m=\u001b[39m \u001b[38;5;124m'\u001b[39m\u001b[38;5;124mAdvancedDiagnosisDate\u001b[39m\u001b[38;5;124m'\u001b[39m,\n\u001b[1;32m      5\u001b[0m                                              days_before \u001b[38;5;241m=\u001b[39m \u001b[38;5;28;01mNone\u001b[39;00m, \n\u001b[1;32m      6\u001b[0m                                              days_after \u001b[38;5;241m=\u001b[39m \u001b[38;5;241m14\u001b[39m)\n\u001b[1;32m      8\u001b[0m \u001b[38;5;66;03m# Empty values are replaced with \"unknown\"\u001b[39;00m\n\u001b[0;32m----> 9\u001b[0m biomarkers_df[\u001b[38;5;124m'\u001b[39m\u001b[38;5;124mpdl1_status\u001b[39m\u001b[38;5;124m'\u001b[39m] \u001b[38;5;241m=\u001b[39m \u001b[43mbiomarkers_df\u001b[49m\u001b[43m[\u001b[49m\u001b[38;5;124;43m'\u001b[39;49m\u001b[38;5;124;43mpdl1_status\u001b[39;49m\u001b[38;5;124;43m'\u001b[39;49m\u001b[43m]\u001b[49m\u001b[38;5;241;43m.\u001b[39;49m\u001b[43mcat\u001b[49m\u001b[38;5;241;43m.\u001b[39;49m\u001b[43madd_categories\u001b[49m\u001b[43m(\u001b[49m\u001b[38;5;124;43m'\u001b[39;49m\u001b[38;5;124;43munknown\u001b[39;49m\u001b[38;5;124;43m'\u001b[39;49m\u001b[43m)\u001b[49m\n\u001b[1;32m     10\u001b[0m biomarkers_df[\u001b[38;5;124m'\u001b[39m\u001b[38;5;124mpdl1_status\u001b[39m\u001b[38;5;124m'\u001b[39m] \u001b[38;5;241m=\u001b[39m biomarkers_df[\u001b[38;5;124m'\u001b[39m\u001b[38;5;124mpdl1_status\u001b[39m\u001b[38;5;124m'\u001b[39m]\u001b[38;5;241m.\u001b[39mfillna(\u001b[38;5;124m'\u001b[39m\u001b[38;5;124munknown\u001b[39m\u001b[38;5;124m'\u001b[39m)\n\u001b[1;32m     12\u001b[0m biomarkers_df[\u001b[38;5;124m'\u001b[39m\u001b[38;5;124mfgfr_status\u001b[39m\u001b[38;5;124m'\u001b[39m] \u001b[38;5;241m=\u001b[39m biomarkers_df[\u001b[38;5;124m'\u001b[39m\u001b[38;5;124mfgfr_status\u001b[39m\u001b[38;5;124m'\u001b[39m]\u001b[38;5;241m.\u001b[39mcat\u001b[38;5;241m.\u001b[39madd_categories(\u001b[38;5;124m'\u001b[39m\u001b[38;5;124munknown\u001b[39m\u001b[38;5;124m'\u001b[39m)\n",
      "File \u001b[0;32m~/Dropbox/flatiron-cancer-etl/fcetl/lib/python3.13/site-packages/pandas/core/accessor.py:112\u001b[0m, in \u001b[0;36mPandasDelegate._add_delegate_accessors.<locals>._create_delegator_method.<locals>.f\u001b[0;34m(self, *args, **kwargs)\u001b[0m\n\u001b[1;32m    111\u001b[0m \u001b[38;5;28;01mdef\u001b[39;00m\u001b[38;5;250m \u001b[39m\u001b[38;5;21mf\u001b[39m(\u001b[38;5;28mself\u001b[39m, \u001b[38;5;241m*\u001b[39margs, \u001b[38;5;241m*\u001b[39m\u001b[38;5;241m*\u001b[39mkwargs):\n\u001b[0;32m--> 112\u001b[0m     \u001b[38;5;28;01mreturn\u001b[39;00m \u001b[38;5;28;43mself\u001b[39;49m\u001b[38;5;241;43m.\u001b[39;49m\u001b[43m_delegate_method\u001b[49m\u001b[43m(\u001b[49m\u001b[43mname\u001b[49m\u001b[43m,\u001b[49m\u001b[43m \u001b[49m\u001b[38;5;241;43m*\u001b[39;49m\u001b[43margs\u001b[49m\u001b[43m,\u001b[49m\u001b[43m \u001b[49m\u001b[38;5;241;43m*\u001b[39;49m\u001b[38;5;241;43m*\u001b[39;49m\u001b[43mkwargs\u001b[49m\u001b[43m)\u001b[49m\n",
      "File \u001b[0;32m~/Dropbox/flatiron-cancer-etl/fcetl/lib/python3.13/site-packages/pandas/core/arrays/categorical.py:2941\u001b[0m, in \u001b[0;36mCategoricalAccessor._delegate_method\u001b[0;34m(self, name, *args, **kwargs)\u001b[0m\n\u001b[1;32m   2938\u001b[0m \u001b[38;5;28;01mfrom\u001b[39;00m\u001b[38;5;250m \u001b[39m\u001b[38;5;21;01mpandas\u001b[39;00m\u001b[38;5;250m \u001b[39m\u001b[38;5;28;01mimport\u001b[39;00m Series\n\u001b[1;32m   2940\u001b[0m method \u001b[38;5;241m=\u001b[39m \u001b[38;5;28mgetattr\u001b[39m(\u001b[38;5;28mself\u001b[39m\u001b[38;5;241m.\u001b[39m_parent, name)\n\u001b[0;32m-> 2941\u001b[0m res \u001b[38;5;241m=\u001b[39m \u001b[43mmethod\u001b[49m\u001b[43m(\u001b[49m\u001b[38;5;241;43m*\u001b[39;49m\u001b[43margs\u001b[49m\u001b[43m,\u001b[49m\u001b[43m \u001b[49m\u001b[38;5;241;43m*\u001b[39;49m\u001b[38;5;241;43m*\u001b[39;49m\u001b[43mkwargs\u001b[49m\u001b[43m)\u001b[49m\n\u001b[1;32m   2942\u001b[0m \u001b[38;5;28;01mif\u001b[39;00m res \u001b[38;5;129;01mis\u001b[39;00m \u001b[38;5;129;01mnot\u001b[39;00m \u001b[38;5;28;01mNone\u001b[39;00m:\n\u001b[1;32m   2943\u001b[0m     \u001b[38;5;28;01mreturn\u001b[39;00m Series(res, index\u001b[38;5;241m=\u001b[39m\u001b[38;5;28mself\u001b[39m\u001b[38;5;241m.\u001b[39m_index, name\u001b[38;5;241m=\u001b[39m\u001b[38;5;28mself\u001b[39m\u001b[38;5;241m.\u001b[39m_name)\n",
      "File \u001b[0;32m~/Dropbox/flatiron-cancer-etl/fcetl/lib/python3.13/site-packages/pandas/core/arrays/categorical.py:1330\u001b[0m, in \u001b[0;36mCategorical.add_categories\u001b[0;34m(self, new_categories)\u001b[0m\n\u001b[1;32m   1328\u001b[0m already_included \u001b[38;5;241m=\u001b[39m \u001b[38;5;28mset\u001b[39m(new_categories) \u001b[38;5;241m&\u001b[39m \u001b[38;5;28mset\u001b[39m(\u001b[38;5;28mself\u001b[39m\u001b[38;5;241m.\u001b[39mdtype\u001b[38;5;241m.\u001b[39mcategories)\n\u001b[1;32m   1329\u001b[0m \u001b[38;5;28;01mif\u001b[39;00m \u001b[38;5;28mlen\u001b[39m(already_included) \u001b[38;5;241m!=\u001b[39m \u001b[38;5;241m0\u001b[39m:\n\u001b[0;32m-> 1330\u001b[0m     \u001b[38;5;28;01mraise\u001b[39;00m \u001b[38;5;167;01mValueError\u001b[39;00m(\n\u001b[1;32m   1331\u001b[0m         \u001b[38;5;124mf\u001b[39m\u001b[38;5;124m\"\u001b[39m\u001b[38;5;124mnew categories must not include old categories: \u001b[39m\u001b[38;5;132;01m{\u001b[39;00malready_included\u001b[38;5;132;01m}\u001b[39;00m\u001b[38;5;124m\"\u001b[39m\n\u001b[1;32m   1332\u001b[0m     )\n\u001b[1;32m   1334\u001b[0m \u001b[38;5;28;01mif\u001b[39;00m \u001b[38;5;28mhasattr\u001b[39m(new_categories, \u001b[38;5;124m\"\u001b[39m\u001b[38;5;124mdtype\u001b[39m\u001b[38;5;124m\"\u001b[39m):\n\u001b[1;32m   1335\u001b[0m     \u001b[38;5;28;01mfrom\u001b[39;00m\u001b[38;5;250m \u001b[39m\u001b[38;5;21;01mpandas\u001b[39;00m\u001b[38;5;250m \u001b[39m\u001b[38;5;28;01mimport\u001b[39;00m Series\n",
      "\u001b[0;31mValueError\u001b[0m: new categories must not include old categories: {'unknown'}"
     ]
    }
   ],
   "source": [
    "# Process Enhanced_AdvUrothelialBiomarkers.csv\n",
    "biomarkers_df = processor.process_biomarkers(file_path = '../data/Enhanced_AdvUrothelialBiomarkers.csv',\n",
    "                                             index_date_df = df, \n",
    "                                             index_date_column = 'AdvancedDiagnosisDate',\n",
    "                                             days_before = None, \n",
    "                                             days_after = 14)\n",
    "\n",
    "# Empty values are replaced with \"unknown\"\n",
    "biomarkers_df['pdl1_status'] = biomarkers_df['pdl1_status'].fillna('unknown')\n",
    "\n",
    "biomarkers_df['fgfr_status'] = biomarkers_df['fgfr_status'].cat.add_categories('unknown')\n",
    "biomarkers_df['fgfr_status'] = biomarkers_df['fgfr_status'].fillna('unknown')"
   ]
  },
  {
   "cell_type": "code",
   "execution_count": null,
   "id": "251ca60f-1b99-4f07-b47f-c98894f7092c",
   "metadata": {},
   "outputs": [],
   "source": [
    "# Process ECOG.csv\n",
    "ecog_df = processor.process_ecog(file_path = '../data/ECOG.csv', \n",
    "                                 index_date_df = df,\n",
    "                                 index_date_column = 'AdvancedDiagnosisDate',\n",
    "                                 days_before = 90,\n",
    "                                 days_after = 0,\n",
    "                                 days_before_further = 180)"
   ]
  },
  {
   "cell_type": "code",
   "execution_count": null,
   "id": "9a5ef167-0d91-4660-a8eb-ba7dbee00fe8",
   "metadata": {},
   "outputs": [],
   "source": [
    "# Process Vitals.csv\n",
    "vitals_df = processor.process_vitals(file_path = '../data/Vitals.csv',\n",
    "                                     index_date_df = df,\n",
    "                                     index_date_column = 'AdvancedDiagnosisDate',\n",
    "                                     weight_days_before = 90,\n",
    "                                     weight_days_after = 0,\n",
    "                                     vital_summary_lookback = 180)"
   ]
  },
  {
   "cell_type": "code",
   "execution_count": null,
   "id": "33710973-645f-4b23-b8eb-b17d5662793e",
   "metadata": {},
   "outputs": [],
   "source": [
    "# Process Lab.csv\n",
    "labs_df = processor.process_labs(file_path = '../data/Lab.csv',\n",
    "                                 index_date_df = df,\n",
    "                                 index_date_column = 'AdvancedDiagnosisDate',\n",
    "                                 days_before = 90,\n",
    "                                 days_after = 0,\n",
    "                                 summary_lookback = 180)"
   ]
  },
  {
   "cell_type": "code",
   "execution_count": null,
   "id": "02d5e025-664e-4b36-84c8-1a3bee94f22f",
   "metadata": {},
   "outputs": [],
   "source": [
    "# Process MedicationAdministration.csv\n",
    "medications_df = processor.process_medications(file_path = '../data/MedicationAdministration.csv',\n",
    "                                               index_date_df = df,\n",
    "                                               index_date_column = 'AdvancedDiagnosisDate',\n",
    "                                               days_before = 90,\n",
    "                                               days_after = 0)"
   ]
  },
  {
   "cell_type": "code",
   "execution_count": null,
   "id": "307fb9fe-f8e2-4d76-a573-fdca852a1ac8",
   "metadata": {},
   "outputs": [],
   "source": [
    "# Process Diagnsois.csv \n",
    "diagnosis_df = processor.process_diagnosis(file_path = '../data/Diagnosis.csv',\n",
    "                                           index_date_df = df,\n",
    "                                           index_date_column = 'AdvancedDiagnosisDate',\n",
    "                                           days_before = None,\n",
    "                                           days_after = 0)"
   ]
  },
  {
   "cell_type": "code",
   "execution_count": null,
   "id": "c594fe3b-2a7e-42b2-b6a5-26a27a6e3712",
   "metadata": {},
   "outputs": [],
   "source": [
    "# Process Insurance.csv \n",
    "insurance_df = processor.process_insurance(file_path = '../data/Insurance.csv',\n",
    "                                           index_date_df = df,\n",
    "                                           index_date_column = 'AdvancedDiagnosisDate',\n",
    "                                           days_before = None,\n",
    "                                           days_after = 0)"
   ]
  },
  {
   "cell_type": "markdown",
   "id": "559cfafd-2fc8-4c6c-a27b-5954aa4ca96e",
   "metadata": {},
   "source": [
    "## Merge Processed Dataframes\n",
    "Merge the processed dataframes into a single analysis-ready dataset"
   ]
  },
  {
   "cell_type": "code",
   "execution_count": null,
   "id": "31baccb7-978d-4a63-b37c-871baaee556f",
   "metadata": {},
   "outputs": [],
   "source": [
    "merged_data = merge_dataframes(enhanced_df, \n",
    "                               demographics_df, \n",
    "                               practice_df, \n",
    "                               mortality_df, \n",
    "                               biomarkers_df, \n",
    "                               ecog_df, \n",
    "                               vitals_df,\n",
    "                               labs_df,\n",
    "                               medications_df, \n",
    "                               diagnosis_df, \n",
    "                               insurance_df)"
   ]
  },
  {
   "cell_type": "code",
   "execution_count": null,
   "id": "e4357e47-cf24-4c71-9cf1-dbd5868bae37",
   "metadata": {},
   "outputs": [],
   "source": [
    "merged_data.columns.to_list()"
   ]
  },
  {
   "cell_type": "code",
   "execution_count": null,
   "id": "1d311fd5-28b1-43f2-8851-ed2e38cca070",
   "metadata": {},
   "outputs": [],
   "source": [
    "for col, dtype in merged_data.dtypes.items():\n",
    "    print(f\"{col}: {dtype}\")"
   ]
  }
 ],
 "metadata": {
  "kernelspec": {
   "display_name": "Python 3 (ipykernel)",
   "language": "python",
   "name": "python3"
  },
  "language_info": {
   "codemirror_mode": {
    "name": "ipython",
    "version": 3
   },
   "file_extension": ".py",
   "mimetype": "text/x-python",
   "name": "python",
   "nbconvert_exporter": "python",
   "pygments_lexer": "ipython3",
   "version": "3.13.1"
  }
 },
 "nbformat": 4,
 "nbformat_minor": 5
}
