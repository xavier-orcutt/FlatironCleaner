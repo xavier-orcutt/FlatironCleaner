{
 "cells": [
  {
   "cell_type": "code",
   "execution_count": 1,
   "id": "d08be806-7fce-44be-8ab7-4e353884f772",
   "metadata": {},
   "outputs": [],
   "source": [
    "import pandas as pd\n",
    "import numpy as np\n",
    "import re"
   ]
  },
  {
   "cell_type": "code",
   "execution_count": 18,
   "id": "75f4e14d-3ea7-491c-a810-9710dd43dd5f",
   "metadata": {},
   "outputs": [],
   "source": [
    "df = pd.read_csv('data_uro/Insurance.csv')"
   ]
  },
  {
   "cell_type": "code",
   "execution_count": 19,
   "id": "303cb1df-f374-4945-9624-a0cf5f9478fc",
   "metadata": {},
   "outputs": [
    {
     "data": {
      "text/plain": [
       "PayerCategory\n",
       "Commercial Health Plan        8189\n",
       "Medicaid                        59\n",
       "Other Payer - Type Unknown      42\n",
       "Name: count, dtype: int64"
      ]
     },
     "execution_count": 19,
     "metadata": {},
     "output_type": "execute_result"
    }
   ],
   "source": [
    "df.query('IsMedicareAdv == \"Yes\"').PayerCategory.value_counts()"
   ]
  },
  {
   "cell_type": "code",
   "execution_count": 20,
   "id": "38e335e3-f69b-40bc-af00-9fcc6f2c9f70",
   "metadata": {},
   "outputs": [
    {
     "data": {
      "text/plain": [
       "PayerCategory\n",
       "Commercial Health Plan        5715\n",
       "Other Government Program      1189\n",
       "Other Payer - Type Unknown      13\n",
       "Name: count, dtype: int64"
      ]
     },
     "execution_count": 20,
     "metadata": {},
     "output_type": "execute_result"
    }
   ],
   "source": [
    "df.query('IsMedicareSupp == \"Yes\"').PayerCategory.value_counts()"
   ]
  },
  {
   "cell_type": "code",
   "execution_count": 21,
   "id": "34e47d12-c78c-4f7e-a12f-18c387b08f39",
   "metadata": {},
   "outputs": [
    {
     "data": {
      "text/plain": [
       "PayerCategory\n",
       "Commercial Health Plan    898\n",
       "Name: count, dtype: int64"
      ]
     },
     "execution_count": 21,
     "metadata": {},
     "output_type": "execute_result"
    }
   ],
   "source": [
    "df.query('IsManagedMedicaid == \"Yes\"').PayerCategory.value_counts()"
   ]
  },
  {
   "cell_type": "code",
   "execution_count": 22,
   "id": "67ed416e-4eac-403c-a38a-466ffc95ab4d",
   "metadata": {},
   "outputs": [
    {
     "data": {
      "text/plain": [
       "PayerCategory\n",
       "Commercial Health Plan    708\n",
       "Name: count, dtype: int64"
      ]
     },
     "execution_count": 22,
     "metadata": {},
     "output_type": "execute_result"
    }
   ],
   "source": [
    "df.query('IsMedicareMedicaid == \"Yes\"').PayerCategory.value_counts()"
   ]
  },
  {
   "cell_type": "code",
   "execution_count": null,
   "id": "349cd0ad-5f89-4be5-a6a1-38f732b499cb",
   "metadata": {},
   "outputs": [],
   "source": []
  }
 ],
 "metadata": {
  "kernelspec": {
   "display_name": "Python 3 (ipykernel)",
   "language": "python",
   "name": "python3"
  },
  "language_info": {
   "codemirror_mode": {
    "name": "ipython",
    "version": 3
   },
   "file_extension": ".py",
   "mimetype": "text/x-python",
   "name": "python",
   "nbconvert_exporter": "python",
   "pygments_lexer": "ipython3",
   "version": "3.13.1"
  }
 },
 "nbformat": 4,
 "nbformat_minor": 5
}
