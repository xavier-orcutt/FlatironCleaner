{
 "cells": [
  {
   "cell_type": "code",
   "execution_count": 1,
   "id": "d08be806-7fce-44be-8ab7-4e353884f772",
   "metadata": {},
   "outputs": [],
   "source": [
    "import pandas as pd\n",
    "import numpy as np\n",
    "import re"
   ]
  },
  {
   "cell_type": "code",
   "execution_count": 23,
   "id": "75f4e14d-3ea7-491c-a810-9710dd43dd5f",
   "metadata": {},
   "outputs": [],
   "source": [
    "df = pd.read_csv('data_nsclc/Lab.csv')"
   ]
  },
  {
   "cell_type": "code",
   "execution_count": 25,
   "id": "349cd0ad-5f89-4be5-a6a1-38f732b499cb",
   "metadata": {},
   "outputs": [],
   "source": [
    "LOINC_MAPPINGS = {\n",
    "    'hemoglobin': ['718-7', '20509-6'],\n",
    "    'wbc': ['26464-8', '6690-2'],\n",
    "    'platelet': ['26515-7', '777-3', '778-1'],\n",
    "    'creatinine': ['2160-0', '38483-4'],\n",
    "    'bun': ['3094-0'],\n",
    "    'sodium': ['2947-0', '2951-2'],\n",
    "    'bicarbonate': ['1963-8', '1959-6', '14627-4', '1960-4', '2028-9'],\n",
    "    'chloride': ['2075-0'],\n",
    "    'potassium': ['6298-4', '2823-3'],\n",
    "    'albumin': ['1751-7', '35706-1', '13980-8'],\n",
    "    'calcium': ['17861-6', '49765-1'],\n",
    "    'total_bilirubin': ['42719-5', '1975-2'],\n",
    "    'ast': ['1920-8', '30239-8'],\n",
    "    'alt': ['1742-6', '1743-4', '1744-2'],\n",
    "    'alp': ['6768-6']\n",
    "}"
   ]
  },
  {
   "cell_type": "code",
   "execution_count": 26,
   "id": "988cbfe1-2ee5-4cd2-bc78-bccb06e5bae0",
   "metadata": {},
   "outputs": [
    {
     "name": "stderr",
     "output_type": "stream",
     "text": [
      "/var/folders/lr/vkkcj_s12115sxc05ly3mshh0000gn/T/ipykernel_59023/2824603269.py:16: SettingWithCopyWarning: \n",
      "A value is trying to be set on a copy of a slice from a DataFrame.\n",
      "Try using .loc[row_indexer,col_indexer] = value instead\n",
      "\n",
      "See the caveats in the documentation: https://pandas.pydata.org/pandas-docs/stable/user_guide/indexing.html#returning-a-view-versus-a-copy\n",
      "  df.loc[mask, 'lab_name'] = lab_name\n"
     ]
    }
   ],
   "source": [
    "df['ResultDate'] = pd.to_datetime(df['ResultDate'])\n",
    "df['TestDate'] = pd.to_datetime(df['TestDate'])\n",
    "\n",
    "# Impute TestDate for missing ResultDate. \n",
    "df['ResultDate'] = np.where(df['ResultDate'].isna(), df['TestDate'], df['ResultDate'])\n",
    "\n",
    "# Flatten LOINC codes \n",
    "all_loinc_codes = sum(LOINC_MAPPINGS.values(), [])\n",
    "\n",
    "# Filter for LOINC codes \n",
    "df = df[df['LOINC'].isin(all_loinc_codes)]\n",
    "\n",
    "# Map LOINC codes to lab names\n",
    "for lab_name, loinc_codes in LOINC_MAPPINGS.items():\n",
    "    mask = df['LOINC'].isin(loinc_codes)\n",
    "    df.loc[mask, 'lab_name'] = lab_name"
   ]
  },
  {
   "cell_type": "code",
   "execution_count": 29,
   "id": "d537c489-f1ca-4084-85f9-2a8d4f738cbf",
   "metadata": {},
   "outputs": [
    {
     "data": {
      "text/plain": [
       "TestUnits\n",
       "10*3/uL     1951043\n",
       "10*3/mm3      63488\n",
       "10*3          32181\n",
       "10            30527\n",
       "10*9/L        16579\n",
       "U/L            4083\n",
       "/mm3           1185\n",
       "10*3/L          861\n",
       "mm3             620\n",
       "%               502\n",
       "10*3/mL         283\n",
       "/HPF            252\n",
       "/uL             120\n",
       "kU/L             59\n",
       "cell/uL          34\n",
       "uL               12\n",
       "Name: count, dtype: int64"
      ]
     },
     "execution_count": 29,
     "metadata": {},
     "output_type": "execute_result"
    }
   ],
   "source": [
    "df.query('lab_name == \"wbc\"').TestUnits.value_counts()"
   ]
  },
  {
   "cell_type": "code",
   "execution_count": 33,
   "id": "e8e0996d-d4f5-4c98-acba-3ad713408441",
   "metadata": {},
   "outputs": [
    {
     "data": {
      "text/plain": [
       "count    18.000000\n",
       "mean      0.100139\n",
       "std       0.396445\n",
       "min       0.000200\n",
       "25%       0.000775\n",
       "50%       0.002350\n",
       "75%       0.009250\n",
       "max       1.688000\n",
       "Name: TestResultCleaned, dtype: float64"
      ]
     },
     "execution_count": 33,
     "metadata": {},
     "output_type": "execute_result"
    }
   ],
   "source": [
    "df.query('lab_name == \"wbc\"').query('TestUnits == \"/uL\"').TestResultCleaned.describe()"
   ]
  },
  {
   "cell_type": "code",
   "execution_count": null,
   "id": "0c61b32e-9b23-450f-a31a-5b216ffcf89d",
   "metadata": {},
   "outputs": [],
   "source": []
  }
 ],
 "metadata": {
  "kernelspec": {
   "display_name": "Python 3 (ipykernel)",
   "language": "python",
   "name": "python3"
  },
  "language_info": {
   "codemirror_mode": {
    "name": "ipython",
    "version": 3
   },
   "file_extension": ".py",
   "mimetype": "text/x-python",
   "name": "python",
   "nbconvert_exporter": "python",
   "pygments_lexer": "ipython3",
   "version": "3.13.1"
  }
 },
 "nbformat": 4,
 "nbformat_minor": 5
}
